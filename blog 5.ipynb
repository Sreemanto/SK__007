{
 "cells": [
  {
   "cell_type": "code",
   "execution_count": 1,
   "metadata": {},
   "outputs": [],
   "source": [
    "import pandas as pd\n",
    "import numpy as np\n",
    "from sklearn import metrics\n",
    "from sklearn.linear_model import LogisticRegression\n",
    "from sklearn.metrics import recall_score\n",
    "from sklearn.metrics import precision_score\n",
    "from sklearn.tree import DecisionTreeClassifier"
   ]
  },
  {
   "cell_type": "code",
   "execution_count": 2,
   "metadata": {},
   "outputs": [],
   "source": [
    "df = pd.read_csv('abcd.csv')"
   ]
  },
  {
   "cell_type": "code",
   "execution_count": 3,
   "metadata": {},
   "outputs": [
    {
     "data": {
      "text/plain": [
       "Index(['Steps_Before', 'Hour', 'Date', 'DOW', 'Is_Weekend', 'Abandon_Ratio',\n",
       "       'Avg_Sess_Per_Month', 'Is_AB'],\n",
       "      dtype='object')"
      ]
     },
     "execution_count": 3,
     "metadata": {},
     "output_type": "execute_result"
    }
   ],
   "source": [
    "df.columns"
   ]
  },
  {
   "cell_type": "code",
   "execution_count": 4,
   "metadata": {},
   "outputs": [
    {
     "data": {
      "text/html": [
       "<div>\n",
       "<style scoped>\n",
       "    .dataframe tbody tr th:only-of-type {\n",
       "        vertical-align: middle;\n",
       "    }\n",
       "\n",
       "    .dataframe tbody tr th {\n",
       "        vertical-align: top;\n",
       "    }\n",
       "\n",
       "    .dataframe thead th {\n",
       "        text-align: right;\n",
       "    }\n",
       "</style>\n",
       "<table border=\"1\" class=\"dataframe\">\n",
       "  <thead>\n",
       "    <tr style=\"text-align: right;\">\n",
       "      <th></th>\n",
       "      <th>Steps_Before</th>\n",
       "      <th>Hour</th>\n",
       "      <th>Date</th>\n",
       "      <th>DOW</th>\n",
       "      <th>Is_Weekend</th>\n",
       "      <th>Abandon_Ratio</th>\n",
       "      <th>Avg_Sess_Per_Month</th>\n",
       "      <th>Is_AB</th>\n",
       "    </tr>\n",
       "  </thead>\n",
       "  <tbody>\n",
       "    <tr>\n",
       "      <th>0</th>\n",
       "      <td>7</td>\n",
       "      <td>13</td>\n",
       "      <td>23</td>\n",
       "      <td>4</td>\n",
       "      <td>0.0</td>\n",
       "      <td>0.50</td>\n",
       "      <td>0.8</td>\n",
       "      <td>1.0</td>\n",
       "    </tr>\n",
       "    <tr>\n",
       "      <th>1</th>\n",
       "      <td>14</td>\n",
       "      <td>7</td>\n",
       "      <td>21</td>\n",
       "      <td>2</td>\n",
       "      <td>0.0</td>\n",
       "      <td>1.00</td>\n",
       "      <td>0.2</td>\n",
       "      <td>1.0</td>\n",
       "    </tr>\n",
       "    <tr>\n",
       "      <th>2</th>\n",
       "      <td>24</td>\n",
       "      <td>6</td>\n",
       "      <td>24</td>\n",
       "      <td>5</td>\n",
       "      <td>0.0</td>\n",
       "      <td>0.35</td>\n",
       "      <td>4.6</td>\n",
       "      <td>1.0</td>\n",
       "    </tr>\n",
       "    <tr>\n",
       "      <th>3</th>\n",
       "      <td>8</td>\n",
       "      <td>6</td>\n",
       "      <td>24</td>\n",
       "      <td>5</td>\n",
       "      <td>0.0</td>\n",
       "      <td>0.35</td>\n",
       "      <td>4.6</td>\n",
       "      <td>1.0</td>\n",
       "    </tr>\n",
       "    <tr>\n",
       "      <th>4</th>\n",
       "      <td>8</td>\n",
       "      <td>6</td>\n",
       "      <td>24</td>\n",
       "      <td>5</td>\n",
       "      <td>0.0</td>\n",
       "      <td>0.35</td>\n",
       "      <td>4.6</td>\n",
       "      <td>1.0</td>\n",
       "    </tr>\n",
       "  </tbody>\n",
       "</table>\n",
       "</div>"
      ],
      "text/plain": [
       "   Steps_Before  Hour  Date  DOW  Is_Weekend  Abandon_Ratio  \\\n",
       "0             7    13    23    4         0.0           0.50   \n",
       "1            14     7    21    2         0.0           1.00   \n",
       "2            24     6    24    5         0.0           0.35   \n",
       "3             8     6    24    5         0.0           0.35   \n",
       "4             8     6    24    5         0.0           0.35   \n",
       "\n",
       "   Avg_Sess_Per_Month  Is_AB  \n",
       "0                 0.8    1.0  \n",
       "1                 0.2    1.0  \n",
       "2                 4.6    1.0  \n",
       "3                 4.6    1.0  \n",
       "4                 4.6    1.0  "
      ]
     },
     "execution_count": 4,
     "metadata": {},
     "output_type": "execute_result"
    }
   ],
   "source": [
    "df.head(5)"
   ]
  },
  {
   "cell_type": "code",
   "execution_count": 5,
   "metadata": {},
   "outputs": [
    {
     "data": {
      "text/plain": [
       "(2296, 8)"
      ]
     },
     "execution_count": 5,
     "metadata": {},
     "output_type": "execute_result"
    }
   ],
   "source": [
    "df.shape"
   ]
  },
  {
   "cell_type": "code",
   "execution_count": 6,
   "metadata": {},
   "outputs": [],
   "source": [
    "x = df[['Steps_Before','Hour','Date','DOW','Is_Weekend','Abandon_Ratio','Avg_Sess_Per_Month']]\n",
    "y = df['Is_AB']"
   ]
  },
  {
   "cell_type": "code",
   "execution_count": 7,
   "metadata": {},
   "outputs": [],
   "source": [
    "from sklearn.model_selection import train_test_split"
   ]
  },
  {
   "cell_type": "code",
   "execution_count": 8,
   "metadata": {},
   "outputs": [],
   "source": [
    "X_train, X_test, y_train, y_test = train_test_split(x, y, test_size=0.25, random_state=5)"
   ]
  },
  {
   "cell_type": "markdown",
   "metadata": {},
   "source": [
    "# Gini vs Entropy"
   ]
  },
  {
   "cell_type": "code",
   "execution_count": 64,
   "metadata": {},
   "outputs": [],
   "source": [
    "clf_gini = DecisionTreeClassifier(criterion='gini')"
   ]
  },
  {
   "cell_type": "code",
   "execution_count": 65,
   "metadata": {},
   "outputs": [],
   "source": [
    "clf_entropy = DecisionTreeClassifier(criterion='entropy')"
   ]
  },
  {
   "cell_type": "code",
   "execution_count": 66,
   "metadata": {},
   "outputs": [
    {
     "data": {
      "text/plain": [
       "DecisionTreeClassifier(class_weight=None, criterion='gini', max_depth=None,\n",
       "            max_features=None, max_leaf_nodes=None,\n",
       "            min_impurity_decrease=0.0, min_impurity_split=None,\n",
       "            min_samples_leaf=1, min_samples_split=2,\n",
       "            min_weight_fraction_leaf=0.0, presort=False, random_state=None,\n",
       "            splitter='best')"
      ]
     },
     "execution_count": 66,
     "metadata": {},
     "output_type": "execute_result"
    }
   ],
   "source": [
    "clf_gini.fit(X_train,y_train)"
   ]
  },
  {
   "cell_type": "code",
   "execution_count": 67,
   "metadata": {},
   "outputs": [
    {
     "name": "stdout",
     "output_type": "stream",
     "text": [
      "71.602787456446\n"
     ]
    }
   ],
   "source": [
    "Actual = y_test\n",
    "Predicted = clf_gini.predict(X_test)\n",
    "\n",
    "print(metrics.accuracy_score(Actual, Predicted)*100)"
   ]
  },
  {
   "cell_type": "code",
   "execution_count": 68,
   "metadata": {},
   "outputs": [
    {
     "data": {
      "text/plain": [
       "DecisionTreeClassifier(class_weight=None, criterion='entropy', max_depth=None,\n",
       "            max_features=None, max_leaf_nodes=None,\n",
       "            min_impurity_decrease=0.0, min_impurity_split=None,\n",
       "            min_samples_leaf=1, min_samples_split=2,\n",
       "            min_weight_fraction_leaf=0.0, presort=False, random_state=None,\n",
       "            splitter='best')"
      ]
     },
     "execution_count": 68,
     "metadata": {},
     "output_type": "execute_result"
    }
   ],
   "source": [
    "clf_entropy.fit(X_train,y_train)"
   ]
  },
  {
   "cell_type": "code",
   "execution_count": 69,
   "metadata": {},
   "outputs": [
    {
     "name": "stdout",
     "output_type": "stream",
     "text": [
      "75.60975609756098\n"
     ]
    }
   ],
   "source": [
    "Predicted = clf_entropy.predict(X_test)\n",
    "\n",
    "print(metrics.accuracy_score(Actual, Predicted)*100)"
   ]
  },
  {
   "cell_type": "markdown",
   "metadata": {},
   "source": [
    "# Variation with max_depth"
   ]
  },
  {
   "cell_type": "code",
   "execution_count": 70,
   "metadata": {},
   "outputs": [
    {
     "name": "stdout",
     "output_type": "stream",
     "text": [
      "82.40418118466899 1\n",
      "82.40418118466899 2\n",
      "81.18466898954703 3\n",
      "83.44947735191639 4\n",
      "80.8362369337979 5\n",
      "80.66202090592334 6\n",
      "79.61672473867596 7\n",
      "80.48780487804879 8\n",
      "78.397212543554 9\n",
      "78.57142857142857 10\n",
      "78.57142857142857 11\n",
      "79.44250871080139 12\n",
      "77.00348432055749 13\n",
      "77.00348432055749 14\n"
     ]
    }
   ],
   "source": [
    "Actual = y_test\n",
    "#clf = DecisionTreeClassifier(criterion='entropy',max_depth=j)\n",
    "\n",
    "for j in range(1,15):\n",
    "    clf = DecisionTreeClassifier(criterion='entropy',max_depth=j,random_state=5)\n",
    "    clf.fit(X_train,y_train)\n",
    "    Predicted = clf.predict(X_test)\n",
    "    print(metrics.accuracy_score(Actual, Predicted)*100,j)"
   ]
  },
  {
   "cell_type": "markdown",
   "metadata": {},
   "source": [
    "# Variation with Max_leaf_node"
   ]
  },
  {
   "cell_type": "code",
   "execution_count": 71,
   "metadata": {},
   "outputs": [
    {
     "name": "stdout",
     "output_type": "stream",
     "text": [
      "82.40418118466899 5\n",
      "81.3588850174216 6\n",
      "81.3588850174216 7\n",
      "83.62369337979094 8\n",
      "83.62369337979094 9\n",
      "82.40418118466899 10\n",
      "82.40418118466899 11\n",
      "82.40418118466899 12\n",
      "81.53310104529616 13\n",
      "81.3588850174216 14\n",
      "81.3588850174216 15\n",
      "80.8362369337979 16\n",
      "80.8362369337979 17\n",
      "80.8362369337979 18\n",
      "80.8362369337979 19\n",
      "80.8362369337979 20\n",
      "80.8362369337979 21\n",
      "80.8362369337979 22\n",
      "80.8362369337979 23\n",
      "80.8362369337979 24\n"
     ]
    }
   ],
   "source": [
    "for j in range(5,25):\n",
    "    clf = DecisionTreeClassifier(criterion='entropy',max_depth=4,max_leaf_nodes=j,random_state=5)\n",
    "    clf.fit(X_train,y_train)\n",
    "    Predicted = clf.predict(X_test)\n",
    "    print(metrics.accuracy_score(Actual, Predicted)*100,j)"
   ]
  },
  {
   "cell_type": "markdown",
   "metadata": {},
   "source": [
    "# Optimized Decision Tree (criterion='entropy',max_depth=4,max_leaf_nodes=8)"
   ]
  },
  {
   "cell_type": "code",
   "execution_count": 72,
   "metadata": {},
   "outputs": [
    {
     "name": "stdout",
     "output_type": "stream",
     "text": [
      "83.62369337979094\n"
     ]
    }
   ],
   "source": [
    "clf = DecisionTreeClassifier(criterion='entropy',max_depth=4,max_leaf_nodes=8)\n",
    "\n",
    "clf.fit(X_train,y_train)\n",
    "Predicted = clf.predict(X_test)\n",
    "print(metrics.accuracy_score(Actual, Predicted)*100)"
   ]
  },
  {
   "cell_type": "markdown",
   "metadata": {},
   "source": [
    "# Bagging"
   ]
  },
  {
   "cell_type": "code",
   "execution_count": 73,
   "metadata": {},
   "outputs": [],
   "source": [
    "from sklearn.ensemble import BaggingClassifier"
   ]
  },
  {
   "cell_type": "code",
   "execution_count": 74,
   "metadata": {},
   "outputs": [
    {
     "name": "stdout",
     "output_type": "stream",
     "text": [
      "81.53310104529616 5\n",
      "81.53310104529616 6\n",
      "81.01045296167247 7\n",
      "81.53310104529616 8\n",
      "81.01045296167247 9\n",
      "81.53310104529616 10\n",
      "81.53310104529616 11\n",
      "81.53310104529616 12\n",
      "81.01045296167247 13\n",
      "81.70731707317073 14\n",
      "81.18466898954703 15\n",
      "81.53310104529616 16\n",
      "80.8362369337979 17\n",
      "81.18466898954703 18\n",
      "81.3588850174216 19\n"
     ]
    }
   ],
   "source": [
    "for i in range(5,20):\n",
    "        bagg = BaggingClassifier(base_estimator=clf,n_estimators=i,random_state=5)\n",
    "        bagg.fit(X_train,y_train)\n",
    "        Predicted = bagg.predict(X_test)\n",
    "        print(metrics.accuracy_score(Actual, Predicted)*100,i)"
   ]
  },
  {
   "cell_type": "markdown",
   "metadata": {},
   "source": [
    "# Random Forest"
   ]
  },
  {
   "cell_type": "code",
   "execution_count": 75,
   "metadata": {},
   "outputs": [],
   "source": [
    "from sklearn.ensemble import RandomForestClassifier"
   ]
  },
  {
   "cell_type": "code",
   "execution_count": 76,
   "metadata": {},
   "outputs": [
    {
     "name": "stdout",
     "output_type": "stream",
     "text": [
      "82.22996515679442\n"
     ]
    }
   ],
   "source": [
    "Actual = y_test\n",
    "#clf = RandomForestClassifier(n_jobs=2, random_state=0)\n",
    "#for i in range(5,15):\n",
    "clf = RandomForestClassifier(criterion = 'entropy',max_depth=4,max_leaf_nodes=8,random_state=5)\n",
    "clf.fit(X_train,y_train)\n",
    "Predicted = clf.predict(X_test)\n",
    "print(metrics.accuracy_score(Actual, Predicted)*100)"
   ]
  },
  {
   "cell_type": "code",
   "execution_count": null,
   "metadata": {},
   "outputs": [],
   "source": []
  },
  {
   "cell_type": "code",
   "execution_count": null,
   "metadata": {},
   "outputs": [],
   "source": []
  }
 ],
 "metadata": {
  "kernelspec": {
   "display_name": "Python 3",
   "language": "python",
   "name": "python3"
  },
  "language_info": {
   "codemirror_mode": {
    "name": "ipython",
    "version": 3
   },
   "file_extension": ".py",
   "mimetype": "text/x-python",
   "name": "python",
   "nbconvert_exporter": "python",
   "pygments_lexer": "ipython3",
   "version": "3.6.4"
  }
 },
 "nbformat": 4,
 "nbformat_minor": 2
}
