{
 "cells": [
  {
   "cell_type": "markdown",
   "metadata": {},
   "source": [
    "# Binarization"
   ]
  },
  {
   "cell_type": "code",
   "execution_count": 75,
   "metadata": {},
   "outputs": [],
   "source": [
    "from sklearn import preprocessing\n",
    "import numpy as np \n",
    "\n",
    "data = np.array([[2.2, 5.9, -1.8], [5.4, -3.2, -5.1], [-1.9, 4.2, 3.2]])\n"
   ]
  },
  {
   "cell_type": "code",
   "execution_count": 76,
   "metadata": {},
   "outputs": [
    {
     "name": "stdout",
     "output_type": "stream",
     "text": [
      "Binarized data:\n",
      "\n",
      " [[1. 1. 0.]\n",
      " [1. 0. 0.]\n",
      " [0. 1. 1.]]\n"
     ]
    }
   ],
   "source": [
    "bindata = preprocessing.Binarizer(threshold=1.5).transform(data)\n",
    "print('Binarized data:\\n\\n', bindata)"
   ]
  },
  {
   "cell_type": "markdown",
   "metadata": {},
   "source": [
    "# Standardization"
   ]
  },
  {
   "cell_type": "code",
   "execution_count": 77,
   "metadata": {},
   "outputs": [
    {
     "name": "stdout",
     "output_type": "stream",
     "text": [
      "Mean (before)=  [ 1.9         2.3        -1.23333333]\n",
      "Standard Deviation (before)=  [2.98775278 3.95052739 3.41207008]\n"
     ]
    }
   ],
   "source": [
    "print('Mean (before)= ', data.mean(axis=0))\n",
    "print('Standard Deviation (before)= ', data.std(axis=0))"
   ]
  },
  {
   "cell_type": "code",
   "execution_count": 78,
   "metadata": {},
   "outputs": [
    {
     "name": "stdout",
     "output_type": "stream",
     "text": [
      "Mean (after)=  [0.00000000e+00 0.00000000e+00 7.40148683e-17]\n",
      "Standard Deviation (after)=  [1. 1. 1.]\n"
     ]
    }
   ],
   "source": [
    "scaled_data = preprocessing.scale(data)\n",
    "\n",
    "print('Mean (after)= ', scaled_data.mean(axis=0))\n",
    "print('Standard Deviation (after)= ', scaled_data.std(axis=0))"
   ]
  },
  {
   "cell_type": "markdown",
   "metadata": {},
   "source": [
    "# Scaling\n",
    "\n",
    "###### StandardScaler - => features with a mean=0 and variance=1\n",
    "###### MinMaxScaler - => features in a 0 to 1 range\n",
    "###### Normalizer - => feature vector to a Euclidean length=1"
   ]
  },
  {
   "cell_type": "code",
   "execution_count": 79,
   "metadata": {},
   "outputs": [
    {
     "data": {
      "text/plain": [
       "array([[ 2.2,  5.9, -1.8],\n",
       "       [ 5.4, -3.2, -5.1],\n",
       "       [-1.9,  4.2,  3.2]])"
      ]
     },
     "execution_count": 79,
     "metadata": {},
     "output_type": "execute_result"
    }
   ],
   "source": [
    "data"
   ]
  },
  {
   "cell_type": "code",
   "execution_count": 80,
   "metadata": {},
   "outputs": [
    {
     "name": "stdout",
     "output_type": "stream",
     "text": [
      "MinMaxScaler applied on the data:\n",
      " [[0.56164384 1.         0.39759036]\n",
      " [1.         0.         0.        ]\n",
      " [0.         0.81318681 1.        ]]\n"
     ]
    }
   ],
   "source": [
    "minmax_scaler = preprocessing.MinMaxScaler(feature_range=(0,1))\n",
    "data_minmax = minmax_scaler.fit_transform(data)\n",
    "print('MinMaxScaler applied on the data:\\n', data_minmax)"
   ]
  },
  {
   "cell_type": "markdown",
   "metadata": {},
   "source": [
    "# Normalization\n",
    "###### bringing the values of each feature vector on a common scale\n",
    "\n",
    "###### L1 - Least Absolute Deviations - sum of absolute values (on each row) = 1; it is insensitive to outliers\n",
    "###### L2 - Least Squares - sum of squares (on each row) = 1; takes outliers in consideration during training"
   ]
  },
  {
   "cell_type": "code",
   "execution_count": 81,
   "metadata": {},
   "outputs": [
    {
     "data": {
      "text/plain": [
       "array([[ 2.2,  5.9, -1.8],\n",
       "       [ 5.4, -3.2, -5.1],\n",
       "       [-1.9,  4.2,  3.2]])"
      ]
     },
     "execution_count": 81,
     "metadata": {},
     "output_type": "execute_result"
    }
   ],
   "source": [
    "data"
   ]
  },
  {
   "cell_type": "code",
   "execution_count": 82,
   "metadata": {},
   "outputs": [
    {
     "name": "stdout",
     "output_type": "stream",
     "text": [
      "L1-normalized data:\n",
      " [[ 0.22222222  0.5959596  -0.18181818]\n",
      " [ 0.39416058 -0.23357664 -0.37226277]\n",
      " [-0.20430108  0.4516129   0.34408602]]\n",
      "\n",
      "L2-normalized data:\n",
      " [[ 0.3359268   0.90089461 -0.2748492 ]\n",
      " [ 0.6676851  -0.39566524 -0.63059148]\n",
      " [-0.33858465  0.74845029  0.57024784]]\n"
     ]
    }
   ],
   "source": [
    "data_l1 = preprocessing.normalize(data, norm='l1')\n",
    "data_l2 = preprocessing.normalize(data, norm='l2')\n",
    "\n",
    "print('L1-normalized data:\\n', data_l1)\n",
    "print('\\nL2-normalized data:\\n', data_l2)"
   ]
  },
  {
   "cell_type": "code",
   "execution_count": null,
   "metadata": {},
   "outputs": [],
   "source": []
  }
 ],
 "metadata": {
  "kernelspec": {
   "display_name": "Python 3",
   "language": "python",
   "name": "python3"
  },
  "language_info": {
   "codemirror_mode": {
    "name": "ipython",
    "version": 3
   },
   "file_extension": ".py",
   "mimetype": "text/x-python",
   "name": "python",
   "nbconvert_exporter": "python",
   "pygments_lexer": "ipython3",
   "version": "3.6.4"
  }
 },
 "nbformat": 4,
 "nbformat_minor": 2
}
