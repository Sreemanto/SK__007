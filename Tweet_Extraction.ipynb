{
 "cells": [
  {
   "cell_type": "code",
   "execution_count": 1,
   "metadata": {},
   "outputs": [],
   "source": [
    "from tweepy import API #to communicate with twitter\n",
    "from tweepy import OAuthHandler #Responsible for authenticating our credentials that we are going to provide"
   ]
  },
  {
   "cell_type": "code",
   "execution_count": null,
   "metadata": {},
   "outputs": [],
   "source": [
    "ACCESS_TOKEN = '120036820-oL808nDPN6wWJEnfMEMc0VvJ8zbkuHUfflmHoZjR'\n",
    "ACCESS_TOKEN_SECRET = 'zo3nT9Gfp8FZ97MnrVdiJUAMBprXvOGzB9S1NOUx14PKX'\n",
    "CONSUMER_KEY = 'NQ6plLEy0y3iQYFPKmcdeZoGj'\n",
    "CONSUMER_SECRET = 'by7P59UncRL00P1izhcZV8nRHlWztVK6SMdIBiiyteAwxgIv5X'"
   ]
  },
  {
   "cell_type": "code",
   "execution_count": null,
   "metadata": {},
   "outputs": [],
   "source": [
    "import numpy as np\n",
    "import pandas as pd\n",
    "import matplotlib.pyplot as plt"
   ]
  },
  {
   "cell_type": "code",
   "execution_count": null,
   "metadata": {},
   "outputs": [],
   "source": [
    "# # # TWITTER CLIENT # # #\n",
    "class TwitterClient():\n",
    "    \n",
    "    def __init__(self, twitter_user=None):\n",
    "        self.auth = TwitterAuthenticator().authenticate_twitter_app()\n",
    "        self.twitter_client = API(self.auth)\n",
    "\n",
    "        self.twitter_user = twitter_user\n",
    "\n",
    "    def get_twitter_client_api(self):\n",
    "        return self.twitter_client\n"
   ]
  },
  {
   "cell_type": "code",
   "execution_count": null,
   "metadata": {},
   "outputs": [],
   "source": [
    "# # # # TWITTER AUTHENTICATER # # # #\n",
    "class TwitterAuthenticator():\n",
    "\n",
    "    def authenticate_twitter_app(self):\n",
    "        auth = OAuthHandler(CONSUMER_KEY, CONSUMER_SECRET)\n",
    "        auth.set_access_token(ACCESS_TOKEN, ACCESS_TOKEN_SECRET)\n",
    "        return auth"
   ]
  },
  {
   "cell_type": "code",
   "execution_count": null,
   "metadata": {},
   "outputs": [],
   "source": [
    "twitter_client = TwitterClient()\n",
    "\n",
    "api = twitter_client.get_twitter_client_api()\n",
    "\n",
    "tweets = api.search(q=\"#Reservation\", lang=\"en\",count=100 , tweet_mode='extended')\n",
    "\n",
    "print(dir(tweets[0]))\n",
    "\n",
    "df = pd.DataFrame()\n",
    "\n",
    "Tweets = []\n",
    "Tweet_length = []\n",
    "Is_RT = []\n",
    "Id = []\n",
    "Date = []\n",
    "Source = []\n",
    "Retweets = []\n",
    "for i in range(100):\n",
    "    try:\n",
    "        x = tweets[i].retweeted_status.full_text\n",
    "        Is_RT.append(1)\n",
    "    except:\n",
    "        x = tweets[i].full_text\n",
    "        Is_RT.append(0)\n",
    "    Tweets.append(x)\n",
    "    Tweet_length.append(len(x))\n",
    "    Id.append(tweets[i].id)\n",
    "    Date.append(tweets[i].created_at)\n",
    "    Source.append(tweets[i].source)\n",
    "    Retweets.append(tweets[i].retweet_count)\n"
   ]
  },
  {
   "cell_type": "code",
   "execution_count": null,
   "metadata": {},
   "outputs": [],
   "source": [
    "df['Tweet'] = Tweets\n",
    "df['Length'] = Tweet_length\n",
    "df['Is_RT'] = Is_RT\n",
    "df['ID'] = Id\n",
    "df['Date'] = Date\n",
    "df['Source'] = Source\n",
    "df['Retweets'] = Retweets"
   ]
  },
  {
   "cell_type": "code",
   "execution_count": null,
   "metadata": {},
   "outputs": [],
   "source": [
    "df.head(5)"
   ]
  },
  {
   "cell_type": "code",
   "execution_count": null,
   "metadata": {},
   "outputs": [],
   "source": [
    "tweets[0]"
   ]
  },
  {
   "cell_type": "code",
   "execution_count": null,
   "metadata": {},
   "outputs": [],
   "source": [
    "df.to_csv('C:/Users/acer/Set_5.csv',encoding='utf-8',index=True)"
   ]
  }
 ],
 "metadata": {
  "kernelspec": {
   "display_name": "Python 3",
   "language": "python",
   "name": "python3"
  },
  "language_info": {
   "codemirror_mode": {
    "name": "ipython",
    "version": 3
   },
   "file_extension": ".py",
   "mimetype": "text/x-python",
   "name": "python",
   "nbconvert_exporter": "python",
   "pygments_lexer": "ipython3",
   "version": "3.6.4"
  }
 },
 "nbformat": 4,
 "nbformat_minor": 2
}
