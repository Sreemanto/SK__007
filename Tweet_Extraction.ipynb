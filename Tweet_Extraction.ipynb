{
 "cells": [
  {
   "cell_type": "code",
   "execution_count": 1,
   "metadata": {},
   "outputs": [],
   "source": [
    "from tweepy import API \n",
    "from tweepy import Cursor\n",
    "from tweepy.streaming import StreamListener\n",
    "from tweepy import OAuthHandler\n",
    "from tweepy import Stream"
   ]
  },
  {
   "cell_type": "code",
   "execution_count": 2,
   "metadata": {},
   "outputs": [],
   "source": [
    "ACCESS_TOKEN = \"*****************************\"\n",
    "ACCESS_TOKEN_SECRET = \"*****************************\"\n",
    "CONSUMER_KEY = \"*****************************\"\n",
    "CONSUMER_SECRET = \"*****************************\""
   ]
  },
  {
   "cell_type": "code",
   "execution_count": 3,
   "metadata": {},
   "outputs": [],
   "source": [
    "import numpy as np\n",
    "import pandas as pd\n",
    "import matplotlib.pyplot as plt"
   ]
  },
  {
   "cell_type": "code",
   "execution_count": 4,
   "metadata": {},
   "outputs": [],
   "source": [
    "# # #\n",
    "class TwitterClient():\n",
    "    def __init__(self, twitter_user=None):\n",
    "        self.auth = TwitterAuthenticator().authenticate_twitter_app()\n",
    "        self.twitter_client = API(self.auth)\n",
    "\n",
    "        self.twitter_user = twitter_user\n",
    "\n",
    "    def get_twitter_client_api(self):\n",
    "        return self.twitter_client\n"
   ]
  },
  {
   "cell_type": "code",
   "execution_count": 5,
   "metadata": {},
   "outputs": [],
   "source": [
    "# # # # TWITTER AUTHENTICATER # # # #\n",
    "class TwitterAuthenticator():\n",
    "\n",
    "    def authenticate_twitter_app(self):\n",
    "        auth = OAuthHandler(CONSUMER_KEY, CONSUMER_SECRET)\n",
    "        auth.set_access_token(ACCESS_TOKEN, ACCESS_TOKEN_SECRET)\n",
    "        return auth"
   ]
  },
  {
   "cell_type": "code",
   "execution_count": 6,
   "metadata": {},
   "outputs": [],
   "source": [
    "twitter_client = TwitterClient()\n",
    "#tweet_analyzer = TweetAnalyzer()\n",
    "\n",
    "api = twitter_client.get_twitter_client_api()\n",
    "\n",
    "tweets = api.search(q=\"#Reservation\", lang=\"en\",count=100 , tweet_mode='extended')\n",
    "\n",
    "df = pd.DataFrame()\n",
    "\n",
    "Tweets = []\n",
    "Tweet_length = []\n",
    "Is_RT = []\n",
    "Id = []\n",
    "Date = []\n",
    "Source = []\n",
    "Retweets = []\n",
    "for i in range(100):\n",
    "    try:\n",
    "        x = tweets[i].retweeted_status.full_text\n",
    "        Is_RT.append(1)\n",
    "    except:\n",
    "        x = tweets[i].full_text\n",
    "        Is_RT.append(0)\n",
    "    Tweets.append(x)\n",
    "    Tweet_length.append(len(x))\n",
    "    Id.append(tweets[i].id)\n",
    "    Date.append(tweets[i].created_at)\n",
    "    Source.append(tweets[i].source)\n",
    "    Retweets.append(tweets[i].retweet_count)\n"
   ]
  },
  {
   "cell_type": "code",
   "execution_count": 7,
   "metadata": {},
   "outputs": [],
   "source": [
    "df['Tweet'] = Tweets\n",
    "df['Length'] = Tweet_length\n",
    "df['Is_RT'] = Is_RT\n",
    "df['ID'] = Id\n",
    "df['Date'] = Date\n",
    "df['Source'] = Source\n",
    "df['Retweets'] = Retweets"
   ]
  },
  {
   "cell_type": "code",
   "execution_count": 14,
   "metadata": {},
   "outputs": [
    {
     "data": {
      "text/html": [
       "<div>\n",
       "<style scoped>\n",
       "    .dataframe tbody tr th:only-of-type {\n",
       "        vertical-align: middle;\n",
       "    }\n",
       "\n",
       "    .dataframe tbody tr th {\n",
       "        vertical-align: top;\n",
       "    }\n",
       "\n",
       "    .dataframe thead th {\n",
       "        text-align: right;\n",
       "    }\n",
       "</style>\n",
       "<table border=\"1\" class=\"dataframe\">\n",
       "  <thead>\n",
       "    <tr style=\"text-align: right;\">\n",
       "      <th></th>\n",
       "      <th>Tweet</th>\n",
       "      <th>Length</th>\n",
       "      <th>Is_RT</th>\n",
       "      <th>ID</th>\n",
       "      <th>Date</th>\n",
       "      <th>Source</th>\n",
       "      <th>Retweets</th>\n",
       "    </tr>\n",
       "  </thead>\n",
       "  <tbody>\n",
       "    <tr>\n",
       "      <th>0</th>\n",
       "      <td>This is much needed, Give Reservations to peop...</td>\n",
       "      <td>232</td>\n",
       "      <td>1</td>\n",
       "      <td>1083832218726817792</td>\n",
       "      <td>2019-01-11 21:05:12</td>\n",
       "      <td>Twitter for Android</td>\n",
       "      <td>4</td>\n",
       "    </tr>\n",
       "    <tr>\n",
       "      <th>1</th>\n",
       "      <td>This is a historic moment, if this bill is pas...</td>\n",
       "      <td>265</td>\n",
       "      <td>1</td>\n",
       "      <td>1083826434949423106</td>\n",
       "      <td>2019-01-11 20:42:13</td>\n",
       "      <td>Twitter for iPhone</td>\n",
       "      <td>169</td>\n",
       "    </tr>\n",
       "    <tr>\n",
       "      <th>2</th>\n",
       "      <td>Why only #Reservation for those who are weak i...</td>\n",
       "      <td>131</td>\n",
       "      <td>1</td>\n",
       "      <td>1083825763370053634</td>\n",
       "      <td>2019-01-11 20:39:33</td>\n",
       "      <td>Twitter Lite</td>\n",
       "      <td>18</td>\n",
       "    </tr>\n",
       "    <tr>\n",
       "      <th>3</th>\n",
       "      <td>RT REDSRestaurants: LiciousTO is coming to Mid...</td>\n",
       "      <td>237</td>\n",
       "      <td>0</td>\n",
       "      <td>1083824649979469834</td>\n",
       "      <td>2019-01-11 20:35:07</td>\n",
       "      <td>IFTTT</td>\n",
       "      <td>0</td>\n",
       "    </tr>\n",
       "    <tr>\n",
       "      <th>4</th>\n",
       "      <td>Been just 24 hours and the #Reservationbill ha...</td>\n",
       "      <td>284</td>\n",
       "      <td>1</td>\n",
       "      <td>1083824617964429315</td>\n",
       "      <td>2019-01-11 20:35:00</td>\n",
       "      <td>Twitter for Android</td>\n",
       "      <td>36</td>\n",
       "    </tr>\n",
       "  </tbody>\n",
       "</table>\n",
       "</div>"
      ],
      "text/plain": [
       "                                               Tweet  Length  Is_RT  \\\n",
       "0  This is much needed, Give Reservations to peop...     232      1   \n",
       "1  This is a historic moment, if this bill is pas...     265      1   \n",
       "2  Why only #Reservation for those who are weak i...     131      1   \n",
       "3  RT REDSRestaurants: LiciousTO is coming to Mid...     237      0   \n",
       "4  Been just 24 hours and the #Reservationbill ha...     284      1   \n",
       "\n",
       "                    ID                Date               Source  Retweets  \n",
       "0  1083832218726817792 2019-01-11 21:05:12  Twitter for Android         4  \n",
       "1  1083826434949423106 2019-01-11 20:42:13   Twitter for iPhone       169  \n",
       "2  1083825763370053634 2019-01-11 20:39:33         Twitter Lite        18  \n",
       "3  1083824649979469834 2019-01-11 20:35:07                IFTTT         0  \n",
       "4  1083824617964429315 2019-01-11 20:35:00  Twitter for Android        36  "
      ]
     },
     "execution_count": 14,
     "metadata": {},
     "output_type": "execute_result"
    }
   ],
   "source": [
    "df.head(5)"
   ]
  },
  {
   "cell_type": "code",
   "execution_count": 10,
   "metadata": {},
   "outputs": [],
   "source": [
    "df.to_csv('C:/Users/acer/Set_1.csv',encoding='utf-8',index=True)"
   ]
  }
 ],
 "metadata": {
  "kernelspec": {
   "display_name": "Python 3",
   "language": "python",
   "name": "python3"
  },
  "language_info": {
   "codemirror_mode": {
    "name": "ipython",
    "version": 3
   },
   "file_extension": ".py",
   "mimetype": "text/x-python",
   "name": "python",
   "nbconvert_exporter": "python",
   "pygments_lexer": "ipython3",
   "version": "3.6.4"
  }
 },
 "nbformat": 4,
 "nbformat_minor": 2
}
