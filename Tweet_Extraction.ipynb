{
 "cells": [
  {
   "cell_type": "code",
   "execution_count": 1,
   "metadata": {},
   "outputs": [],
   "source": [
    "from tweepy import API \n",
    "from tweepy import OAuthHandler "
   ]
  },
  {
   "cell_type": "code",
   "execution_count": 2,
   "metadata": {},
   "outputs": [],
   "source": [
    "ACCESS_TOKEN = '***************************'\n",
    "ACCESS_TOKEN_SECRET = '**************************'\n",
    "CONSUMER_KEY = '***************************'\n",
    "CONSUMER_SECRET = '**************************'"
   ]
  },
  {
   "cell_type": "code",
   "execution_count": 3,
   "metadata": {},
   "outputs": [],
   "source": [
    "import numpy as np\n",
    "import pandas as pd\n",
    "import matplotlib.pyplot as plt"
   ]
  },
  {
   "cell_type": "code",
   "execution_count": 4,
   "metadata": {},
   "outputs": [],
   "source": [
    "# # # TWITTER CLIENT # # #\n",
    "class TwitterClient():\n",
    "    \n",
    "    def __init__(self, twitter_user=None):\n",
    "        self.auth = TwitterAuthenticator().authenticate_twitter_app()\n",
    "        self.twitter_client = API(self.auth)\n",
    "\n",
    "        self.twitter_user = twitter_user\n",
    "\n",
    "    def get_twitter_client_api(self):\n",
    "        return self.twitter_client\n"
   ]
  },
  {
   "cell_type": "code",
   "execution_count": 5,
   "metadata": {},
   "outputs": [],
   "source": [
    "# # # # TWITTER AUTHENTICATER # # # #\n",
    "class TwitterAuthenticator():\n",
    "\n",
    "    def authenticate_twitter_app(self):\n",
    "        auth = OAuthHandler(CONSUMER_KEY, CONSUMER_SECRET)\n",
    "        auth.set_access_token(ACCESS_TOKEN, ACCESS_TOKEN_SECRET)\n",
    "        return auth"
   ]
  },
  {
   "cell_type": "code",
   "execution_count": 6,
   "metadata": {},
   "outputs": [],
   "source": [
    "twitter_client = TwitterClient()\n",
    "\n",
    "api = twitter_client.get_twitter_client_api()\n",
    "\n",
    "tweets = api.search(q=\"#Reservation\", lang=\"en\",count=100 , tweet_mode='extended')\n",
    "\n",
    "\n",
    "df = pd.DataFrame()\n",
    "\n",
    "Tweets = []\n",
    "Tweet_length = []\n",
    "Is_RT = []\n",
    "Id = []\n",
    "Date = []\n",
    "Source = []\n",
    "Retweets = []\n",
    "for i in range(100):\n",
    "    try:\n",
    "        x = tweets[i].retweeted_status.full_text\n",
    "        Is_RT.append(1)\n",
    "    except:\n",
    "        x = tweets[i].full_text\n",
    "        Is_RT.append(0)\n",
    "    Tweets.append(x)\n",
    "    Tweet_length.append(len(x))\n",
    "    Id.append(tweets[i].id)\n",
    "    Date.append(tweets[i].created_at)\n",
    "    Source.append(tweets[i].source)\n",
    "    Retweets.append(tweets[i].retweet_count)\n"
   ]
  },
  {
   "cell_type": "code",
   "execution_count": 7,
   "metadata": {},
   "outputs": [],
   "source": [
    "df['Tweet'] = Tweets\n",
    "df['Length'] = Tweet_length\n",
    "df['Is_RT'] = Is_RT\n",
    "df['ID'] = Id\n",
    "df['Date'] = Date\n",
    "df['Source'] = Source\n",
    "df['Retweets'] = Retweets"
   ]
  },
  {
   "cell_type": "code",
   "execution_count": 8,
   "metadata": {},
   "outputs": [
    {
     "data": {
      "text/html": [
       "<div>\n",
       "<style scoped>\n",
       "    .dataframe tbody tr th:only-of-type {\n",
       "        vertical-align: middle;\n",
       "    }\n",
       "\n",
       "    .dataframe tbody tr th {\n",
       "        vertical-align: top;\n",
       "    }\n",
       "\n",
       "    .dataframe thead th {\n",
       "        text-align: right;\n",
       "    }\n",
       "</style>\n",
       "<table border=\"1\" class=\"dataframe\">\n",
       "  <thead>\n",
       "    <tr style=\"text-align: right;\">\n",
       "      <th></th>\n",
       "      <th>Tweet</th>\n",
       "      <th>Length</th>\n",
       "      <th>Is_RT</th>\n",
       "      <th>ID</th>\n",
       "      <th>Date</th>\n",
       "      <th>Source</th>\n",
       "      <th>Retweets</th>\n",
       "    </tr>\n",
       "  </thead>\n",
       "  <tbody>\n",
       "    <tr>\n",
       "      <th>0</th>\n",
       "      <td>Gujarat becomes first State to implement EWS R...</td>\n",
       "      <td>211</td>\n",
       "      <td>1</td>\n",
       "      <td>1084547480052654080</td>\n",
       "      <td>2019-01-13 20:27:23</td>\n",
       "      <td>Twitter for Android</td>\n",
       "      <td>20</td>\n",
       "    </tr>\n",
       "    <tr>\n",
       "      <th>1</th>\n",
       "      <td>\"We have absolutely no issues with the poor pe...</td>\n",
       "      <td>218</td>\n",
       "      <td>1</td>\n",
       "      <td>1084544466390724608</td>\n",
       "      <td>2019-01-13 20:15:25</td>\n",
       "      <td>Twitter for Android</td>\n",
       "      <td>32</td>\n",
       "    </tr>\n",
       "    <tr>\n",
       "      <th>2</th>\n",
       "      <td>10% #Reservation bill for #EWS is not the open...</td>\n",
       "      <td>275</td>\n",
       "      <td>0</td>\n",
       "      <td>1084538976709427200</td>\n",
       "      <td>2019-01-13 19:53:36</td>\n",
       "      <td>Twitter for Android</td>\n",
       "      <td>0</td>\n",
       "    </tr>\n",
       "    <tr>\n",
       "      <th>3</th>\n",
       "      <td>#Reservation in private jobs next? Asks senior...</td>\n",
       "      <td>170</td>\n",
       "      <td>1</td>\n",
       "      <td>1084535888963620868</td>\n",
       "      <td>2019-01-13 19:41:20</td>\n",
       "      <td>Twitter for Android</td>\n",
       "      <td>2</td>\n",
       "    </tr>\n",
       "    <tr>\n",
       "      <th>4</th>\n",
       "      <td>@narendramodi_in @RahulGandhi Giving reservati...</td>\n",
       "      <td>258</td>\n",
       "      <td>0</td>\n",
       "      <td>1084534777296891904</td>\n",
       "      <td>2019-01-13 19:36:55</td>\n",
       "      <td>TweetDeck</td>\n",
       "      <td>0</td>\n",
       "    </tr>\n",
       "  </tbody>\n",
       "</table>\n",
       "</div>"
      ],
      "text/plain": [
       "                                               Tweet  Length  Is_RT  \\\n",
       "0  Gujarat becomes first State to implement EWS R...     211      1   \n",
       "1  \"We have absolutely no issues with the poor pe...     218      1   \n",
       "2  10% #Reservation bill for #EWS is not the open...     275      0   \n",
       "3  #Reservation in private jobs next? Asks senior...     170      1   \n",
       "4  @narendramodi_in @RahulGandhi Giving reservati...     258      0   \n",
       "\n",
       "                    ID                Date               Source  Retweets  \n",
       "0  1084547480052654080 2019-01-13 20:27:23  Twitter for Android        20  \n",
       "1  1084544466390724608 2019-01-13 20:15:25  Twitter for Android        32  \n",
       "2  1084538976709427200 2019-01-13 19:53:36  Twitter for Android         0  \n",
       "3  1084535888963620868 2019-01-13 19:41:20  Twitter for Android         2  \n",
       "4  1084534777296891904 2019-01-13 19:36:55            TweetDeck         0  "
      ]
     },
     "execution_count": 8,
     "metadata": {},
     "output_type": "execute_result"
    }
   ],
   "source": [
    "df.head(5)"
   ]
  },
  {
   "cell_type": "code",
   "execution_count": 9,
   "metadata": {},
   "outputs": [],
   "source": [
    "#df.to_csv('C:/Users/acer/Set_5.csv',encoding='utf-8',index=True)"
   ]
  }
 ],
 "metadata": {
  "kernelspec": {
   "display_name": "Python 3",
   "language": "python",
   "name": "python3"
  },
  "language_info": {
   "codemirror_mode": {
    "name": "ipython",
    "version": 3
   },
   "file_extension": ".py",
   "mimetype": "text/x-python",
   "name": "python",
   "nbconvert_exporter": "python",
   "pygments_lexer": "ipython3",
   "version": "3.6.4"
  }
 },
 "nbformat": 4,
 "nbformat_minor": 2
}
