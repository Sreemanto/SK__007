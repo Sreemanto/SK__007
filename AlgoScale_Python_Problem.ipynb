{
 "cells": [
  {
   "cell_type": "code",
   "execution_count": 5,
   "metadata": {},
   "outputs": [],
   "source": [
    "import pandas as pd"
   ]
  },
  {
   "cell_type": "code",
   "execution_count": 6,
   "metadata": {},
   "outputs": [
    {
     "data": {
      "text/html": [
       "<div>\n",
       "<style scoped>\n",
       "    .dataframe tbody tr th:only-of-type {\n",
       "        vertical-align: middle;\n",
       "    }\n",
       "\n",
       "    .dataframe tbody tr th {\n",
       "        vertical-align: top;\n",
       "    }\n",
       "\n",
       "    .dataframe thead th {\n",
       "        text-align: right;\n",
       "    }\n",
       "</style>\n",
       "<table border=\"1\" class=\"dataframe\">\n",
       "  <thead>\n",
       "    <tr style=\"text-align: right;\">\n",
       "      <th></th>\n",
       "      <th>names</th>\n",
       "      <th>sentence</th>\n",
       "    </tr>\n",
       "  </thead>\n",
       "  <tbody>\n",
       "    <tr>\n",
       "      <th>0</th>\n",
       "      <td>ABC</td>\n",
       "      <td>How is everyone doing</td>\n",
       "    </tr>\n",
       "    <tr>\n",
       "      <th>1</th>\n",
       "      <td>DEF</td>\n",
       "      <td>I'm doing awesome</td>\n",
       "    </tr>\n",
       "    <tr>\n",
       "      <th>2</th>\n",
       "      <td>GHI</td>\n",
       "      <td>Doing great</td>\n",
       "    </tr>\n",
       "    <tr>\n",
       "      <th>3</th>\n",
       "      <td>ABC</td>\n",
       "      <td>not doing bad at all</td>\n",
       "    </tr>\n",
       "    <tr>\n",
       "      <th>4</th>\n",
       "      <td>PQR</td>\n",
       "      <td>how is the weather there</td>\n",
       "    </tr>\n",
       "  </tbody>\n",
       "</table>\n",
       "</div>"
      ],
      "text/plain": [
       "  names                  sentence\n",
       "0   ABC     How is everyone doing\n",
       "1   DEF        I'm doing awesome \n",
       "2   GHI               Doing great\n",
       "3   ABC      not doing bad at all\n",
       "4   PQR  how is the weather there"
      ]
     },
     "execution_count": 6,
     "metadata": {},
     "output_type": "execute_result"
    }
   ],
   "source": [
    "names = [\"ABC\",\"DEF\",\"GHI\",\"ABC\",\"PQR\"]\n",
    "sentence = [\"How is everyone doing\",\n",
    "            \"I'm doing awesome \",\n",
    "            \"Doing great\",\n",
    "            \"not doing bad at all\",\n",
    "            \"how is the weather there\"]\n",
    "\n",
    "df = pd.DataFrame({\"names\":names,\n",
    "             \"sentence\":sentence})\n",
    "\n",
    "df"
   ]
  },
  {
   "cell_type": "code",
   "execution_count": 7,
   "metadata": {},
   "outputs": [],
   "source": [
    "#step 1 - collect all the unique names\n",
    "#step 2 - Loop through all the names\n",
    "#step 3 - Create a transformed data frame for each name\n",
    "#step 4 - do values counts(Most frequent wword, count), unique (Total words)\n",
    "#step 5 - collect the result of all the names in dictionary"
   ]
  },
  {
   "cell_type": "code",
   "execution_count": 8,
   "metadata": {},
   "outputs": [],
   "source": [
    "def count_words(name,list_of_words):\n",
    "\n",
    "    #creating the transformed dataframe\n",
    "    transformed_df = pd.DataFrame()    \n",
    "    transformed_df['words'] = list_of_words\n",
    "    transformed_df['name'] = name    \n",
    "    \n",
    "    most_frequent_word = transformed_df['words'].value_counts().index[0]\n",
    "    count_most_frequent_word = transformed_df['words'].value_counts().values[0]\n",
    "    total_words = transformed_df['words'].nunique()\n",
    "    \n",
    "    return (most_frequent_word,count_most_frequent_word,total_words)    \n",
    "    \n",
    "def transform(name):\n",
    "    \n",
    "    individual_df = df[df['names']==name]\n",
    "    print(individual_df)  #### just for checking\n",
    "    \n",
    "    list_of_words = []     \n",
    "    \n",
    "    for i in individual_df.sentence:\n",
    "        \n",
    "        print(i.split(\" \"))\n",
    "        #appending the empty list with new words\n",
    "        list_of_words.extend(i.split(\" \"))\n",
    "        print(list_of_words)\n",
    "        \n",
    "    return count_words(name,list_of_words)"
   ]
  },
  {
   "cell_type": "code",
   "execution_count": 9,
   "metadata": {
    "collapsed": true
   },
   "outputs": [
    {
     "name": "stdout",
     "output_type": "stream",
     "text": [
      "ABC\n",
      "  names               sentence\n",
      "0   ABC  How is everyone doing\n",
      "3   ABC   not doing bad at all\n",
      "['How', 'is', 'everyone', 'doing']\n",
      "['How', 'is', 'everyone', 'doing']\n",
      "['not', 'doing', 'bad', 'at', 'all']\n",
      "['How', 'is', 'everyone', 'doing', 'not', 'doing', 'bad', 'at', 'all']\n",
      "DEF\n",
      "  names            sentence\n",
      "1   DEF  I'm doing awesome \n",
      "[\"I'm\", 'doing', 'awesome', '']\n",
      "[\"I'm\", 'doing', 'awesome', '']\n",
      "GHI\n",
      "  names     sentence\n",
      "2   GHI  Doing great\n",
      "['Doing', 'great']\n",
      "['Doing', 'great']\n",
      "PQR\n",
      "  names                  sentence\n",
      "4   PQR  how is the weather there\n",
      "['how', 'is', 'the', 'weather', 'there']\n",
      "['how', 'is', 'the', 'weather', 'there']\n"
     ]
    },
    {
     "data": {
      "text/plain": [
       "{'ABC': ('doing', 2, 8),\n",
       " 'DEF': ('awesome', 1, 4),\n",
       " 'GHI': ('great', 1, 2),\n",
       " 'PQR': ('is', 1, 5)}"
      ]
     },
     "execution_count": 9,
     "metadata": {},
     "output_type": "execute_result"
    }
   ],
   "source": [
    "names = df.names.unique()\n",
    "result_dict = {}\n",
    "for name in names:\n",
    "    print(name)    \n",
    "    (most_frequent_word,count_most_frequent_word,total_words) = transform(name)\n",
    "  \n",
    "    result_dict[name] = (most_frequent_word,count_most_frequent_word,total_words)\n",
    "result_dict"
   ]
  },
  {
   "cell_type": "code",
   "execution_count": 97,
   "metadata": {},
   "outputs": [
    {
     "data": {
      "text/html": [
       "<div>\n",
       "<style scoped>\n",
       "    .dataframe tbody tr th:only-of-type {\n",
       "        vertical-align: middle;\n",
       "    }\n",
       "\n",
       "    .dataframe tbody tr th {\n",
       "        vertical-align: top;\n",
       "    }\n",
       "\n",
       "    .dataframe thead th {\n",
       "        text-align: right;\n",
       "    }\n",
       "</style>\n",
       "<table border=\"1\" class=\"dataframe\">\n",
       "  <thead>\n",
       "    <tr style=\"text-align: right;\">\n",
       "      <th></th>\n",
       "      <th>most_frequent_word</th>\n",
       "      <th>count_most_frequent_word</th>\n",
       "      <th>total_words</th>\n",
       "    </tr>\n",
       "  </thead>\n",
       "  <tbody>\n",
       "    <tr>\n",
       "      <th>ABC</th>\n",
       "      <td>doing</td>\n",
       "      <td>2</td>\n",
       "      <td>8</td>\n",
       "    </tr>\n",
       "    <tr>\n",
       "      <th>DEF</th>\n",
       "      <td>awesome</td>\n",
       "      <td>1</td>\n",
       "      <td>4</td>\n",
       "    </tr>\n",
       "    <tr>\n",
       "      <th>GHI</th>\n",
       "      <td>great</td>\n",
       "      <td>1</td>\n",
       "      <td>2</td>\n",
       "    </tr>\n",
       "    <tr>\n",
       "      <th>PQR</th>\n",
       "      <td>weather</td>\n",
       "      <td>1</td>\n",
       "      <td>5</td>\n",
       "    </tr>\n",
       "  </tbody>\n",
       "</table>\n",
       "</div>"
      ],
      "text/plain": [
       "    most_frequent_word count_most_frequent_word total_words\n",
       "ABC              doing                        2           8\n",
       "DEF            awesome                        1           4\n",
       "GHI              great                        1           2\n",
       "PQR            weather                        1           5"
      ]
     },
     "execution_count": 97,
     "metadata": {},
     "output_type": "execute_result"
    }
   ],
   "source": [
    "final_df = pd.DataFrame(result_dict).T\n",
    "final_df.columns = ['most_frequent_word','count_most_frequent_word','total_words']\n",
    "final_df"
   ]
  },
  {
   "cell_type": "code",
   "execution_count": null,
   "metadata": {},
   "outputs": [],
   "source": []
  },
  {
   "cell_type": "code",
   "execution_count": null,
   "metadata": {},
   "outputs": [],
   "source": []
  },
  {
   "cell_type": "code",
   "execution_count": null,
   "metadata": {},
   "outputs": [],
   "source": []
  },
  {
   "cell_type": "code",
   "execution_count": null,
   "metadata": {},
   "outputs": [],
   "source": []
  },
  {
   "cell_type": "code",
   "execution_count": null,
   "metadata": {},
   "outputs": [],
   "source": []
  },
  {
   "cell_type": "code",
   "execution_count": null,
   "metadata": {},
   "outputs": [],
   "source": []
  },
  {
   "cell_type": "code",
   "execution_count": null,
   "metadata": {},
   "outputs": [],
   "source": []
  },
  {
   "cell_type": "code",
   "execution_count": null,
   "metadata": {},
   "outputs": [],
   "source": []
  },
  {
   "cell_type": "code",
   "execution_count": null,
   "metadata": {},
   "outputs": [],
   "source": []
  },
  {
   "cell_type": "code",
   "execution_count": null,
   "metadata": {},
   "outputs": [],
   "source": []
  },
  {
   "cell_type": "code",
   "execution_count": null,
   "metadata": {},
   "outputs": [],
   "source": []
  },
  {
   "cell_type": "code",
   "execution_count": null,
   "metadata": {},
   "outputs": [],
   "source": []
  },
  {
   "cell_type": "code",
   "execution_count": 67,
   "metadata": {},
   "outputs": [],
   "source": [
    "names = [\"ABC\",\"DEF\",\"GHI\",\"ABC\",\"PQR\"]\n",
    "sentence = [\"How is everyone doing\",\"I'm doing awesome \",\"Doing great\",\"not doing bad at all\",\"how is the weather there\"]\n",
    "\n",
    "df = pd.DataFrame({\"names\":names,\n",
    "             \"sentence\":sentence})\n",
    "\n",
    "def unique_words(name):\n",
    "    \n",
    "    #subsetting the data for one individual\n",
    "    ind_df = df[df[\"names\"]==name]\n",
    "    \n",
    "    # for collecting words\n",
    "    individual_word_list = []\n",
    "    \n",
    "    #empty df to be used later\n",
    "    ind_df_with_words = pd.DataFrame() \n",
    "    \n",
    "    for i in ind_df.sentence.values:\n",
    "        wordlist = i.split(\" \")\n",
    "        \n",
    "    #for word in wordlist:\n",
    "        individual_word_list.extend(wordlist)\n",
    "\n",
    "    #creating a dataframe\n",
    "    ind_df_with_words[\"Words\"] = individual_word_list\n",
    "    ind_df_with_words[\"Name\"] = name\n",
    "\n",
    "    \n",
    "    #collecting the most frequent word\n",
    "    most_frequent_word = ind_df_with_words[\"Words\"].value_counts().index[0]\n",
    "    #collecting the coutn of most frequent word\n",
    "    count_most_frequent_word = ind_df_with_words[\"Words\"].value_counts().values[0]\n",
    "    #collecting total no of unique words\n",
    "    unique_words_ = ind_df_with_words[\"Words\"].nunique()\n",
    "    #print(ind_df_with_words[\"Words\"].nunique())\n",
    "    \n",
    "    return most_frequent_word,count_most_frequent_word,unique_words_\n",
    "\n",
    "\n",
    "\n",
    "#Driver Code\n",
    "name_list = df[\"names\"].unique()\n",
    "\n",
    "summary = {}\n",
    "\n",
    "for name in name_list:\n",
    "    \n",
    "    most_frequent_word,count_most_frequent_word,unique_words_ = unique_words(name)\n",
    "    \n",
    "    #storing the details in dict\n",
    "    summary[name] = [most_frequent_word,count_most_frequent_word,unique_words_]\n",
    "    \n",
    "#Summarizing the results in a data frame\n",
    "summary_df = pd.DataFrame(summary).T.reset_index()\n",
    "summary_df.columns = [\"Name\",\"most_frequent_word\",\"count_most_frequent_word\",\"Total Unique words\"]\n",
    "summary_df"
   ]
  },
  {
   "cell_type": "code",
   "execution_count": 68,
   "metadata": {},
   "outputs": [],
   "source": [
    "name_list = df[\"names\"].unique()\n",
    "\n",
    "summary = {}\n",
    "\n",
    "for name in name_list:\n",
    "    \n",
    "    most_frequent_word,count_most_frequent_word,unique_words_ = unique_words(name)\n",
    "    \n",
    "    #storing the details in dict\n",
    "    summary[name] = [most_frequent_word,count_most_frequent_word,unique_words_]"
   ]
  },
  {
   "cell_type": "code",
   "execution_count": 69,
   "metadata": {
    "collapsed": true
   },
   "outputs": [
    {
     "data": {
      "text/html": [
       "<div>\n",
       "<style scoped>\n",
       "    .dataframe tbody tr th:only-of-type {\n",
       "        vertical-align: middle;\n",
       "    }\n",
       "\n",
       "    .dataframe tbody tr th {\n",
       "        vertical-align: top;\n",
       "    }\n",
       "\n",
       "    .dataframe thead th {\n",
       "        text-align: right;\n",
       "    }\n",
       "</style>\n",
       "<table border=\"1\" class=\"dataframe\">\n",
       "  <thead>\n",
       "    <tr style=\"text-align: right;\">\n",
       "      <th></th>\n",
       "      <th>Name</th>\n",
       "      <th>most_frequent_word</th>\n",
       "      <th>count_most_frequent_word</th>\n",
       "      <th>Total Unique words</th>\n",
       "    </tr>\n",
       "  </thead>\n",
       "  <tbody>\n",
       "    <tr>\n",
       "      <th>0</th>\n",
       "      <td>ABC</td>\n",
       "      <td>doing</td>\n",
       "      <td>2</td>\n",
       "      <td>8</td>\n",
       "    </tr>\n",
       "    <tr>\n",
       "      <th>1</th>\n",
       "      <td>DEF</td>\n",
       "      <td>awesome</td>\n",
       "      <td>1</td>\n",
       "      <td>4</td>\n",
       "    </tr>\n",
       "    <tr>\n",
       "      <th>2</th>\n",
       "      <td>GHI</td>\n",
       "      <td>great</td>\n",
       "      <td>1</td>\n",
       "      <td>2</td>\n",
       "    </tr>\n",
       "    <tr>\n",
       "      <th>3</th>\n",
       "      <td>PQR</td>\n",
       "      <td>weather</td>\n",
       "      <td>1</td>\n",
       "      <td>5</td>\n",
       "    </tr>\n",
       "  </tbody>\n",
       "</table>\n",
       "</div>"
      ],
      "text/plain": [
       "  Name most_frequent_word count_most_frequent_word Total Unique words\n",
       "0  ABC              doing                        2                  8\n",
       "1  DEF            awesome                        1                  4\n",
       "2  GHI              great                        1                  2\n",
       "3  PQR            weather                        1                  5"
      ]
     },
     "execution_count": 69,
     "metadata": {},
     "output_type": "execute_result"
    }
   ],
   "source": [
    "#Summarizing the results in a data frame\n",
    "summary_df = pd.DataFrame(summary).T.reset_index()\n",
    "summary_df.columns = [\"Name\",\"most_frequent_word\",\"count_most_frequent_word\",\"Total Unique words\"]\n",
    "summary_df"
   ]
  },
  {
   "cell_type": "code",
   "execution_count": null,
   "metadata": {},
   "outputs": [],
   "source": []
  },
  {
   "cell_type": "code",
   "execution_count": null,
   "metadata": {},
   "outputs": [],
   "source": []
  }
 ],
 "metadata": {
  "kernelspec": {
   "display_name": "Python 3",
   "language": "python",
   "name": "python3"
  },
  "language_info": {
   "codemirror_mode": {
    "name": "ipython",
    "version": 3
   },
   "file_extension": ".py",
   "mimetype": "text/x-python",
   "name": "python",
   "nbconvert_exporter": "python",
   "pygments_lexer": "ipython3",
   "version": "3.7.7"
  }
 },
 "nbformat": 4,
 "nbformat_minor": 4
}
