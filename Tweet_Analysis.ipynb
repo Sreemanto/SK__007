{
 "cells": [
  {
   "cell_type": "code",
   "execution_count": 1,
   "metadata": {},
   "outputs": [],
   "source": [
    "import nltk\n",
    "import re\n",
    "import pandas as pd\n",
    "import matplotlib.pyplot as plt\n",
    "import numpy as np"
   ]
  },
  {
   "cell_type": "code",
   "execution_count": 2,
   "metadata": {},
   "outputs": [],
   "source": [
    "df1 = pd.read_csv('Set_1.csv')\n",
    "df2 = pd.read_csv('Set_2.csv')\n",
    "df3 = pd.read_csv('Set_3.csv')\n",
    "df4 = pd.read_csv('Set_4.csv')\n",
    "df5 = pd.read_csv('Set_5.csv')"
   ]
  },
  {
   "cell_type": "code",
   "execution_count": 3,
   "metadata": {},
   "outputs": [],
   "source": [
    "df = pd.concat([df1,df2,df3,df4,df5])"
   ]
  },
  {
   "cell_type": "code",
   "execution_count": 4,
   "metadata": {},
   "outputs": [],
   "source": [
    "df.reset_index(inplace=True, drop=True) "
   ]
  },
  {
   "cell_type": "code",
   "execution_count": 5,
   "metadata": {},
   "outputs": [
    {
     "data": {
      "text/html": [
       "<div>\n",
       "<style scoped>\n",
       "    .dataframe tbody tr th:only-of-type {\n",
       "        vertical-align: middle;\n",
       "    }\n",
       "\n",
       "    .dataframe tbody tr th {\n",
       "        vertical-align: top;\n",
       "    }\n",
       "\n",
       "    .dataframe thead th {\n",
       "        text-align: right;\n",
       "    }\n",
       "</style>\n",
       "<table border=\"1\" class=\"dataframe\">\n",
       "  <thead>\n",
       "    <tr style=\"text-align: right;\">\n",
       "      <th></th>\n",
       "      <th>Date</th>\n",
       "      <th>ID</th>\n",
       "      <th>Is_RT</th>\n",
       "      <th>Length</th>\n",
       "      <th>Retweets</th>\n",
       "      <th>Source</th>\n",
       "      <th>Tweet</th>\n",
       "      <th>Unnamed: 0</th>\n",
       "    </tr>\n",
       "  </thead>\n",
       "  <tbody>\n",
       "    <tr>\n",
       "      <th>0</th>\n",
       "      <td>10-01-2019 21:23</td>\n",
       "      <td>1.083470e+18</td>\n",
       "      <td>1</td>\n",
       "      <td>198</td>\n",
       "      <td>94</td>\n",
       "      <td>Twitter for Android</td>\n",
       "      <td>📍Lok Sabha\\r\\n  |\\r\\n  |\\r\\n  | _ _ _ _ _ _ _ ...</td>\n",
       "      <td>NaN</td>\n",
       "    </tr>\n",
       "    <tr>\n",
       "      <th>1</th>\n",
       "      <td>10-01-2019 21:22</td>\n",
       "      <td>1.083470e+18</td>\n",
       "      <td>1</td>\n",
       "      <td>251</td>\n",
       "      <td>17</td>\n",
       "      <td>Twitter for iPhone</td>\n",
       "      <td>Someone once told me TN always electing Region...</td>\n",
       "      <td>NaN</td>\n",
       "    </tr>\n",
       "    <tr>\n",
       "      <th>2</th>\n",
       "      <td>10-01-2019 21:22</td>\n",
       "      <td>1.083470e+18</td>\n",
       "      <td>0</td>\n",
       "      <td>155</td>\n",
       "      <td>0</td>\n",
       "      <td>Twitter for Android</td>\n",
       "      <td>Family, community filled with questions after ...</td>\n",
       "      <td>NaN</td>\n",
       "    </tr>\n",
       "    <tr>\n",
       "      <th>3</th>\n",
       "      <td>10-01-2019 21:18</td>\n",
       "      <td>1.083470e+18</td>\n",
       "      <td>1</td>\n",
       "      <td>143</td>\n",
       "      <td>21</td>\n",
       "      <td>Twitter for Android</td>\n",
       "      <td>This is Modis #Reservation formula😂.\\r\\n#India...</td>\n",
       "      <td>NaN</td>\n",
       "    </tr>\n",
       "    <tr>\n",
       "      <th>4</th>\n",
       "      <td>10-01-2019 21:16</td>\n",
       "      <td>1.083470e+18</td>\n",
       "      <td>1</td>\n",
       "      <td>149</td>\n",
       "      <td>33</td>\n",
       "      <td>Twitter for Android</td>\n",
       "      <td>What about the 4.5 % #Reservation given to min...</td>\n",
       "      <td>NaN</td>\n",
       "    </tr>\n",
       "  </tbody>\n",
       "</table>\n",
       "</div>"
      ],
      "text/plain": [
       "               Date            ID  Is_RT  Length  Retweets  \\\n",
       "0  10-01-2019 21:23  1.083470e+18      1     198        94   \n",
       "1  10-01-2019 21:22  1.083470e+18      1     251        17   \n",
       "2  10-01-2019 21:22  1.083470e+18      0     155         0   \n",
       "3  10-01-2019 21:18  1.083470e+18      1     143        21   \n",
       "4  10-01-2019 21:16  1.083470e+18      1     149        33   \n",
       "\n",
       "                Source                                              Tweet  \\\n",
       "0  Twitter for Android  📍Lok Sabha\\r\\n  |\\r\\n  |\\r\\n  | _ _ _ _ _ _ _ ...   \n",
       "1   Twitter for iPhone  Someone once told me TN always electing Region...   \n",
       "2  Twitter for Android  Family, community filled with questions after ...   \n",
       "3  Twitter for Android  This is Modis #Reservation formula😂.\\r\\n#India...   \n",
       "4  Twitter for Android  What about the 4.5 % #Reservation given to min...   \n",
       "\n",
       "   Unnamed: 0  \n",
       "0         NaN  \n",
       "1         NaN  \n",
       "2         NaN  \n",
       "3         NaN  \n",
       "4         NaN  "
      ]
     },
     "execution_count": 5,
     "metadata": {},
     "output_type": "execute_result"
    }
   ],
   "source": [
    "df.head(5)"
   ]
  },
  {
   "cell_type": "code",
   "execution_count": 6,
   "metadata": {},
   "outputs": [],
   "source": [
    "#Clean Tweet\n",
    "Clean_Tweet = []\n",
    "for i in df.Tweet:\n",
    "    Clean_Tweet.append(' '.join(re.sub(\"(@[A-Za-z0-9]+)|([^0-9A-Za-z \\t])|(\\w+:\\/\\/\\S+)\", \" \", i.lower()).split()))\n",
    "df['Clean_Tweet'] = Clean_Tweet\n"
   ]
  },
  {
   "cell_type": "code",
   "execution_count": 7,
   "metadata": {},
   "outputs": [],
   "source": [
    "#Removing the stopword\n",
    "from nltk.corpus import stopwords\n",
    "stop_words = set(stopwords.words('english'))\n",
    "filtered_tweet = [w for w in df.Clean_Tweet if not w in stop_words]"
   ]
  },
  {
   "cell_type": "code",
   "execution_count": 8,
   "metadata": {},
   "outputs": [],
   "source": [
    "df['filtered_tweet'] = filtered_tweet"
   ]
  },
  {
   "cell_type": "code",
   "execution_count": 9,
   "metadata": {},
   "outputs": [
    {
     "data": {
      "text/html": [
       "<div>\n",
       "<style scoped>\n",
       "    .dataframe tbody tr th:only-of-type {\n",
       "        vertical-align: middle;\n",
       "    }\n",
       "\n",
       "    .dataframe tbody tr th {\n",
       "        vertical-align: top;\n",
       "    }\n",
       "\n",
       "    .dataframe thead th {\n",
       "        text-align: right;\n",
       "    }\n",
       "</style>\n",
       "<table border=\"1\" class=\"dataframe\">\n",
       "  <thead>\n",
       "    <tr style=\"text-align: right;\">\n",
       "      <th></th>\n",
       "      <th>Date</th>\n",
       "      <th>ID</th>\n",
       "      <th>Is_RT</th>\n",
       "      <th>Length</th>\n",
       "      <th>Retweets</th>\n",
       "      <th>Source</th>\n",
       "      <th>Tweet</th>\n",
       "      <th>Unnamed: 0</th>\n",
       "      <th>Clean_Tweet</th>\n",
       "      <th>filtered_tweet</th>\n",
       "    </tr>\n",
       "  </thead>\n",
       "  <tbody>\n",
       "    <tr>\n",
       "      <th>95</th>\n",
       "      <td>10-01-2019 17:52</td>\n",
       "      <td>1.083420e+18</td>\n",
       "      <td>1</td>\n",
       "      <td>275</td>\n",
       "      <td>264</td>\n",
       "      <td>Twitter for iPhone</td>\n",
       "      <td>He ruled Gujarat for 15 years as a chief minis...</td>\n",
       "      <td>NaN</td>\n",
       "      <td>he ruled gujarat for 15 years as a chief minis...</td>\n",
       "      <td>he ruled gujarat for 15 years as a chief minis...</td>\n",
       "    </tr>\n",
       "    <tr>\n",
       "      <th>96</th>\n",
       "      <td>10-01-2019 17:52</td>\n",
       "      <td>1.083420e+18</td>\n",
       "      <td>0</td>\n",
       "      <td>268</td>\n",
       "      <td>0</td>\n",
       "      <td>Twitter for Android</td>\n",
       "      <td>#Reservation 1. 50% reservation for  SC+ST+OBC...</td>\n",
       "      <td>NaN</td>\n",
       "      <td>reservation 1 50 reservation for sc st obc i e...</td>\n",
       "      <td>reservation 1 50 reservation for sc st obc i e...</td>\n",
       "    </tr>\n",
       "    <tr>\n",
       "      <th>97</th>\n",
       "      <td>10-01-2019 17:49</td>\n",
       "      <td>1.083420e+18</td>\n",
       "      <td>1</td>\n",
       "      <td>209</td>\n",
       "      <td>1</td>\n",
       "      <td>Twitter for iPhone</td>\n",
       "      <td>#ReservationforUpperCaste: The word is not eno...</td>\n",
       "      <td>NaN</td>\n",
       "      <td>reservationforuppercaste the word is not enoug...</td>\n",
       "      <td>reservationforuppercaste the word is not enoug...</td>\n",
       "    </tr>\n",
       "    <tr>\n",
       "      <th>98</th>\n",
       "      <td>10-01-2019 17:49</td>\n",
       "      <td>1.083420e+18</td>\n",
       "      <td>0</td>\n",
       "      <td>301</td>\n",
       "      <td>0</td>\n",
       "      <td>Twitter for Android</td>\n",
       "      <td>Many say they've no #Reservation if #CBIBossSa...</td>\n",
       "      <td>NaN</td>\n",
       "      <td>many say they ve no reservation if cbibosssack...</td>\n",
       "      <td>many say they ve no reservation if cbibosssack...</td>\n",
       "    </tr>\n",
       "    <tr>\n",
       "      <th>99</th>\n",
       "      <td>10-01-2019 17:48</td>\n",
       "      <td>1.083420e+18</td>\n",
       "      <td>0</td>\n",
       "      <td>260</td>\n",
       "      <td>0</td>\n",
       "      <td>Twitter Web Client</td>\n",
       "      <td>Here's how SC, ST, OBC should beat upper catse...</td>\n",
       "      <td>NaN</td>\n",
       "      <td>here s how sc st obc should beat upper catse i...</td>\n",
       "      <td>here s how sc st obc should beat upper catse i...</td>\n",
       "    </tr>\n",
       "    <tr>\n",
       "      <th>100</th>\n",
       "      <td>11-01-2019 06:45</td>\n",
       "      <td>1.083620e+18</td>\n",
       "      <td>0</td>\n",
       "      <td>63</td>\n",
       "      <td>0</td>\n",
       "      <td>Twitter for Android</td>\n",
       "      <td>@IndiaToday Only solution stop #Reservation fo...</td>\n",
       "      <td>NaN</td>\n",
       "      <td>only solution stop reservation for all categories</td>\n",
       "      <td>only solution stop reservation for all categories</td>\n",
       "    </tr>\n",
       "    <tr>\n",
       "      <th>101</th>\n",
       "      <td>11-01-2019 06:43</td>\n",
       "      <td>1.083620e+18</td>\n",
       "      <td>1</td>\n",
       "      <td>251</td>\n",
       "      <td>114</td>\n",
       "      <td>Twitter for Android</td>\n",
       "      <td>Someone once told me TN always electing Region...</td>\n",
       "      <td>NaN</td>\n",
       "      <td>someone once told me tn always electing region...</td>\n",
       "      <td>someone once told me tn always electing region...</td>\n",
       "    </tr>\n",
       "    <tr>\n",
       "      <th>102</th>\n",
       "      <td>11-01-2019 06:42</td>\n",
       "      <td>1.083620e+18</td>\n",
       "      <td>1</td>\n",
       "      <td>280</td>\n",
       "      <td>884</td>\n",
       "      <td>Twitter for Android</td>\n",
       "      <td>They said Jan Dhan is fail.\\r\\nThey said Swach...</td>\n",
       "      <td>NaN</td>\n",
       "      <td>they said jan dhan is fail they said swachh bh...</td>\n",
       "      <td>they said jan dhan is fail they said swachh bh...</td>\n",
       "    </tr>\n",
       "    <tr>\n",
       "      <th>103</th>\n",
       "      <td>11-01-2019 06:40</td>\n",
       "      <td>1.083610e+18</td>\n",
       "      <td>1</td>\n",
       "      <td>131</td>\n",
       "      <td>7</td>\n",
       "      <td>Twitter for Android</td>\n",
       "      <td>SC had in the 1992 ruling said that poverty al...</td>\n",
       "      <td>NaN</td>\n",
       "      <td>sc had in the 1992 ruling said that poverty al...</td>\n",
       "      <td>sc had in the 1992 ruling said that poverty al...</td>\n",
       "    </tr>\n",
       "    <tr>\n",
       "      <th>104</th>\n",
       "      <td>11-01-2019 06:40</td>\n",
       "      <td>1.083610e+18</td>\n",
       "      <td>1</td>\n",
       "      <td>131</td>\n",
       "      <td>7</td>\n",
       "      <td>Twitter for Android</td>\n",
       "      <td>SC had in the 1992 ruling said that poverty al...</td>\n",
       "      <td>NaN</td>\n",
       "      <td>sc had in the 1992 ruling said that poverty al...</td>\n",
       "      <td>sc had in the 1992 ruling said that poverty al...</td>\n",
       "    </tr>\n",
       "  </tbody>\n",
       "</table>\n",
       "</div>"
      ],
      "text/plain": [
       "                 Date            ID  Is_RT  Length  Retweets  \\\n",
       "95   10-01-2019 17:52  1.083420e+18      1     275       264   \n",
       "96   10-01-2019 17:52  1.083420e+18      0     268         0   \n",
       "97   10-01-2019 17:49  1.083420e+18      1     209         1   \n",
       "98   10-01-2019 17:49  1.083420e+18      0     301         0   \n",
       "99   10-01-2019 17:48  1.083420e+18      0     260         0   \n",
       "100  11-01-2019 06:45  1.083620e+18      0      63         0   \n",
       "101  11-01-2019 06:43  1.083620e+18      1     251       114   \n",
       "102  11-01-2019 06:42  1.083620e+18      1     280       884   \n",
       "103  11-01-2019 06:40  1.083610e+18      1     131         7   \n",
       "104  11-01-2019 06:40  1.083610e+18      1     131         7   \n",
       "\n",
       "                  Source                                              Tweet  \\\n",
       "95    Twitter for iPhone  He ruled Gujarat for 15 years as a chief minis...   \n",
       "96   Twitter for Android  #Reservation 1. 50% reservation for  SC+ST+OBC...   \n",
       "97    Twitter for iPhone  #ReservationforUpperCaste: The word is not eno...   \n",
       "98   Twitter for Android  Many say they've no #Reservation if #CBIBossSa...   \n",
       "99    Twitter Web Client  Here's how SC, ST, OBC should beat upper catse...   \n",
       "100  Twitter for Android  @IndiaToday Only solution stop #Reservation fo...   \n",
       "101  Twitter for Android  Someone once told me TN always electing Region...   \n",
       "102  Twitter for Android  They said Jan Dhan is fail.\\r\\nThey said Swach...   \n",
       "103  Twitter for Android  SC had in the 1992 ruling said that poverty al...   \n",
       "104  Twitter for Android  SC had in the 1992 ruling said that poverty al...   \n",
       "\n",
       "     Unnamed: 0                                        Clean_Tweet  \\\n",
       "95          NaN  he ruled gujarat for 15 years as a chief minis...   \n",
       "96          NaN  reservation 1 50 reservation for sc st obc i e...   \n",
       "97          NaN  reservationforuppercaste the word is not enoug...   \n",
       "98          NaN  many say they ve no reservation if cbibosssack...   \n",
       "99          NaN  here s how sc st obc should beat upper catse i...   \n",
       "100         NaN  only solution stop reservation for all categories   \n",
       "101         NaN  someone once told me tn always electing region...   \n",
       "102         NaN  they said jan dhan is fail they said swachh bh...   \n",
       "103         NaN  sc had in the 1992 ruling said that poverty al...   \n",
       "104         NaN  sc had in the 1992 ruling said that poverty al...   \n",
       "\n",
       "                                        filtered_tweet  \n",
       "95   he ruled gujarat for 15 years as a chief minis...  \n",
       "96   reservation 1 50 reservation for sc st obc i e...  \n",
       "97   reservationforuppercaste the word is not enoug...  \n",
       "98   many say they ve no reservation if cbibosssack...  \n",
       "99   here s how sc st obc should beat upper catse i...  \n",
       "100  only solution stop reservation for all categories  \n",
       "101  someone once told me tn always electing region...  \n",
       "102  they said jan dhan is fail they said swachh bh...  \n",
       "103  sc had in the 1992 ruling said that poverty al...  \n",
       "104  sc had in the 1992 ruling said that poverty al...  "
      ]
     },
     "execution_count": 9,
     "metadata": {},
     "output_type": "execute_result"
    }
   ],
   "source": [
    "df[95:105]"
   ]
  },
  {
   "cell_type": "code",
   "execution_count": 10,
   "metadata": {},
   "outputs": [
    {
     "name": "stdout",
     "output_type": "stream",
     "text": [
      "155\n"
     ]
    }
   ],
   "source": [
    "count = 0\n",
    "for i in df.Tweet:\n",
    "    if '@' in i:\n",
    "        count = count + 1\n",
    "print(count)"
   ]
  },
  {
   "cell_type": "code",
   "execution_count": 11,
   "metadata": {},
   "outputs": [
    {
     "name": "stdout",
     "output_type": "stream",
     "text": [
      "45\n"
     ]
    }
   ],
   "source": [
    "count = 0\n",
    "for i in df.Tweet:\n",
    "    if '#Modi' in i:\n",
    "        count = count + 1\n",
    "print(count)"
   ]
  },
  {
   "cell_type": "code",
   "execution_count": 12,
   "metadata": {},
   "outputs": [
    {
     "name": "stdout",
     "output_type": "stream",
     "text": [
      "500\n"
     ]
    }
   ],
   "source": [
    "count = 0\n",
    "for i in df.Tweet:\n",
    "    if '#Reservation' or '#reservation' in i:\n",
    "        count = count + 1\n",
    "print(count)"
   ]
  },
  {
   "cell_type": "code",
   "execution_count": 13,
   "metadata": {},
   "outputs": [
    {
     "name": "stdout",
     "output_type": "stream",
     "text": [
      "49\n"
     ]
    }
   ],
   "source": [
    "BJP_count = 0\n",
    "for i in df.Tweet:\n",
    "    if ('BJP' or 'bjp') in i:\n",
    "        BJP_count = BJP_count + 1\n",
    "print(BJP_count)"
   ]
  },
  {
   "cell_type": "code",
   "execution_count": 14,
   "metadata": {},
   "outputs": [
    {
     "name": "stdout",
     "output_type": "stream",
     "text": [
      "17\n"
     ]
    }
   ],
   "source": [
    "congress_count = 0\n",
    "for i in df.Clean_Tweet:\n",
    "    if 'congress' in i:\n",
    "        congress_count = congress_count + 1\n",
    "print(congress_count)"
   ]
  },
  {
   "cell_type": "code",
   "execution_count": 15,
   "metadata": {},
   "outputs": [
    {
     "name": "stdout",
     "output_type": "stream",
     "text": [
      "9\n"
     ]
    }
   ],
   "source": [
    "count = 0\n",
    "for i in df.Tweet:\n",
    "    if  ('Vikas'or 'vikas' or 'VIKAS') in i:\n",
    "        count = count + 1\n",
    "print(count)"
   ]
  },
  {
   "cell_type": "code",
   "execution_count": 16,
   "metadata": {},
   "outputs": [
    {
     "name": "stdout",
     "output_type": "stream",
     "text": [
      "31\n"
     ]
    }
   ],
   "source": [
    "count = 0\n",
    "for i in df.Tweet:\n",
    "    if ('jobs' or 'Jobs') in i:\n",
    "        count = count + 1\n",
    "print(count)"
   ]
  },
  {
   "cell_type": "code",
   "execution_count": 17,
   "metadata": {},
   "outputs": [
    {
     "name": "stdout",
     "output_type": "stream",
     "text": [
      "72\n"
     ]
    }
   ],
   "source": [
    "count = 0\n",
    "for i in df.Tweet:\n",
    "    if '@narendramodi' in i:\n",
    "        count = count + 1\n",
    "print(count)"
   ]
  },
  {
   "cell_type": "code",
   "execution_count": 18,
   "metadata": {},
   "outputs": [
    {
     "name": "stdout",
     "output_type": "stream",
     "text": [
      "1557\n"
     ]
    }
   ],
   "source": [
    "Hashtag_count = 0\n",
    "c = 0\n",
    "for i in df.Tweet:\n",
    "    c = i.count('#')\n",
    "    Hashtag_count = Hashtag_count + c   \n",
    "    c = 0\n",
    "print(Hashtag_count)"
   ]
  },
  {
   "cell_type": "code",
   "execution_count": 19,
   "metadata": {},
   "outputs": [
    {
     "name": "stdout",
     "output_type": "stream",
     "text": [
      "155\n"
     ]
    }
   ],
   "source": [
    "Mentions_Count = 0\n",
    "for i in df.Tweet:\n",
    "    if '@' in i:\n",
    "        Mentions_Count = Mentions_Count + 1\n",
    "print(Mentions_Count)"
   ]
  },
  {
   "cell_type": "code",
   "execution_count": 20,
   "metadata": {},
   "outputs": [
    {
     "name": "stdout",
     "output_type": "stream",
     "text": [
      "93\n"
     ]
    }
   ],
   "source": [
    "count = 0\n",
    "for i in df.Tweet:\n",
    "    if '#QuotaBill' in i:\n",
    "        count = count + 1\n",
    "print(count)"
   ]
  },
  {
   "cell_type": "code",
   "execution_count": 21,
   "metadata": {},
   "outputs": [
    {
     "name": "stdout",
     "output_type": "stream",
     "text": [
      "361\n",
      "48\n",
      "91\n"
     ]
    }
   ],
   "source": [
    "#Andorid vs #Iphone\n",
    "Android_User = df[df.Source == 'Twitter for Android'].shape[0]\n",
    "Iphone_User = df[df.Source == 'Twitter for iPhone'].shape[0]\n",
    "Rest = len(df) - (Android_User + Iphone_User)\n",
    "print(Android_User)\n",
    "print(Iphone_User)\n",
    "print(Rest)"
   ]
  },
  {
   "cell_type": "code",
   "execution_count": 22,
   "metadata": {},
   "outputs": [],
   "source": [
    "Android_RT = df[df.Source == 'Twitter for Android'].Retweets.sum()\n",
    "Iphone_RT = df[df.Source == 'Twitter for iPhone'].Retweets.sum()\n",
    "Rest_RT = (df.Retweets.sum() - (df[df.Source == 'Twitter for Android'].Retweets.sum() + (df[df.Source == 'Twitter for iPhone'].Retweets.sum())))"
   ]
  },
  {
   "cell_type": "code",
   "execution_count": 23,
   "metadata": {},
   "outputs": [
    {
     "name": "stdout",
     "output_type": "stream",
     "text": [
      "111.34626038781164\n",
      "146.39583333333334\n",
      "152.83516483516485\n"
     ]
    }
   ],
   "source": [
    "#Avg retweet_count of a tweet coming from an Android User/Iphone/Rest\n",
    "Avg_Android_User_Retweet_Count = Android_RT/Android_User\n",
    "Avg_Iphone_User_Retweet_Count = Iphone_RT/Iphone_User\n",
    "Avg_Rest_User_Retweet_Count =  Rest_RT/Rest\n",
    "print(Avg_Android_User_Retweet_Count)\n",
    "print(Avg_Iphone_User_Retweet_Count)\n",
    "print(Avg_Rest_User_Retweet_Count)"
   ]
  },
  {
   "cell_type": "code",
   "execution_count": 24,
   "metadata": {
    "scrolled": true
   },
   "outputs": [
    {
     "name": "stdout",
     "output_type": "stream",
     "text": [
      "10% #Reservation for economically weaker sections is a MASTER-JUMLA\r\n",
      "\r\n",
      "Modi govt failed at giving jobs. If there are no jobs in the first place, what will any caste, any economic section get?  10% of Zero is still a Zero.\n",
      "Total Retweets :  2735\n"
     ]
    }
   ],
   "source": [
    "#Most Popular Tweet\n",
    "for i in df[df.Retweets == df.Retweets.max()].Tweet:\n",
    "    print(i)\n",
    "print('Total Retweets : ',df.Retweets.max())"
   ]
  },
  {
   "cell_type": "code",
   "execution_count": 25,
   "metadata": {},
   "outputs": [
    {
     "data": {
      "text/plain": [
       "1    432\n",
       "0     68\n",
       "Name: Is_RT, dtype: int64"
      ]
     },
     "execution_count": 25,
     "metadata": {},
     "output_type": "execute_result"
    }
   ],
   "source": [
    "df.Is_RT.value_counts()"
   ]
  },
  {
   "cell_type": "code",
   "execution_count": 26,
   "metadata": {
    "scrolled": false
   },
   "outputs": [
    {
     "name": "stderr",
     "output_type": "stream",
     "text": [
      "C:\\Users\\acer\\Anaconda3\\lib\\site-packages\\ipykernel_launcher.py:1: UserWarning: Boolean Series key will be reindexed to match DataFrame index.\n",
      "  \"\"\"Entry point for launching an IPython kernel.\n"
     ]
    },
    {
     "data": {
      "text/plain": [
       "43"
      ]
     },
     "execution_count": 26,
     "metadata": {},
     "output_type": "execute_result"
    }
   ],
   "source": [
    "Android_Tweets = df[df.Source == 'Twitter for Android'][df.Is_RT == 0].shape[0]\n",
    "Android_Tweets"
   ]
  },
  {
   "cell_type": "code",
   "execution_count": 27,
   "metadata": {
    "scrolled": true
   },
   "outputs": [
    {
     "name": "stderr",
     "output_type": "stream",
     "text": [
      "C:\\Users\\acer\\Anaconda3\\lib\\site-packages\\ipykernel_launcher.py:1: UserWarning: Boolean Series key will be reindexed to match DataFrame index.\n",
      "  \"\"\"Entry point for launching an IPython kernel.\n"
     ]
    },
    {
     "data": {
      "text/plain": [
       "2"
      ]
     },
     "execution_count": 27,
     "metadata": {},
     "output_type": "execute_result"
    }
   ],
   "source": [
    "iPhone_Tweets = df[df.Source == 'Twitter for iPhone'][df.Is_RT == 0].shape[0]\n",
    "iPhone_Tweets"
   ]
  },
  {
   "cell_type": "code",
   "execution_count": 28,
   "metadata": {},
   "outputs": [
    {
     "name": "stdout",
     "output_type": "stream",
     "text": [
      "318\n",
      "43\n",
      "0.11911357340720222\n",
      "0.8808864265927978\n"
     ]
    }
   ],
   "source": [
    "#Total Tweets from Android\n",
    "Android_Retweets = Android_User - Android_Tweets\n",
    "Avg_Android_Tweets = Android_Tweets/Android_User\n",
    "Avg_Android_Retweets = Android_Retweets/Android_User\n",
    "print(Android_Retweets)\n",
    "print(Android_Tweets)\n",
    "print(Avg_Android_Tweets)\n",
    "print(Avg_Android_Retweets)"
   ]
  },
  {
   "cell_type": "code",
   "execution_count": 29,
   "metadata": {},
   "outputs": [
    {
     "name": "stdout",
     "output_type": "stream",
     "text": [
      "46\n",
      "2\n",
      "0.041666666666666664\n",
      "0.9583333333333334\n"
     ]
    }
   ],
   "source": [
    "#Total Tweets from iPhone\n",
    "Iphone_Retweets = Iphone_User - iPhone_Tweets\n",
    "Avg_Iphone_Tweets = iPhone_Tweets/Iphone_User\n",
    "Avg_Iphone_Retweets = Iphone_Retweets/Iphone_User\n",
    "print(Iphone_Retweets)\n",
    "print(iPhone_Tweets)\n",
    "print(Avg_Iphone_Tweets)\n",
    "print(Avg_Iphone_Retweets)"
   ]
  },
  {
   "cell_type": "code",
   "execution_count": 30,
   "metadata": {},
   "outputs": [],
   "source": [
    "#Avg_Iphone_Tweets > #Total Tweets from iPhone\n",
    "#So on an average we can conclude that an Iphone User is likely to Tweet More while an Android user is likely to tweet more."
   ]
  },
  {
   "cell_type": "code",
   "execution_count": 31,
   "metadata": {
    "scrolled": true
   },
   "outputs": [
    {
     "data": {
      "text/html": [
       "<div>\n",
       "<style scoped>\n",
       "    .dataframe tbody tr th:only-of-type {\n",
       "        vertical-align: middle;\n",
       "    }\n",
       "\n",
       "    .dataframe tbody tr th {\n",
       "        vertical-align: top;\n",
       "    }\n",
       "\n",
       "    .dataframe thead th {\n",
       "        text-align: right;\n",
       "    }\n",
       "</style>\n",
       "<table border=\"1\" class=\"dataframe\">\n",
       "  <thead>\n",
       "    <tr style=\"text-align: right;\">\n",
       "      <th></th>\n",
       "      <th>Date</th>\n",
       "      <th>ID</th>\n",
       "      <th>Is_RT</th>\n",
       "      <th>Length</th>\n",
       "      <th>Retweets</th>\n",
       "      <th>Source</th>\n",
       "      <th>Tweet</th>\n",
       "      <th>Unnamed: 0</th>\n",
       "      <th>Clean_Tweet</th>\n",
       "      <th>filtered_tweet</th>\n",
       "    </tr>\n",
       "  </thead>\n",
       "  <tbody>\n",
       "    <tr>\n",
       "      <th>0</th>\n",
       "      <td>10-01-2019 21:23</td>\n",
       "      <td>1.083470e+18</td>\n",
       "      <td>1</td>\n",
       "      <td>198</td>\n",
       "      <td>94</td>\n",
       "      <td>Twitter for Android</td>\n",
       "      <td>📍Lok Sabha\\r\\n  |\\r\\n  |\\r\\n  | _ _ _ _ _ _ _ ...</td>\n",
       "      <td>NaN</td>\n",
       "      <td>lok sabha women s reservation bill 10 reservat...</td>\n",
       "      <td>lok sabha women s reservation bill 10 reservat...</td>\n",
       "    </tr>\n",
       "    <tr>\n",
       "      <th>1</th>\n",
       "      <td>10-01-2019 21:22</td>\n",
       "      <td>1.083470e+18</td>\n",
       "      <td>1</td>\n",
       "      <td>251</td>\n",
       "      <td>17</td>\n",
       "      <td>Twitter for iPhone</td>\n",
       "      <td>Someone once told me TN always electing Region...</td>\n",
       "      <td>NaN</td>\n",
       "      <td>someone once told me tn always electing region...</td>\n",
       "      <td>someone once told me tn always electing region...</td>\n",
       "    </tr>\n",
       "    <tr>\n",
       "      <th>2</th>\n",
       "      <td>10-01-2019 21:22</td>\n",
       "      <td>1.083470e+18</td>\n",
       "      <td>0</td>\n",
       "      <td>155</td>\n",
       "      <td>0</td>\n",
       "      <td>Twitter for Android</td>\n",
       "      <td>Family, community filled with questions after ...</td>\n",
       "      <td>NaN</td>\n",
       "      <td>family community filled with questions after t...</td>\n",
       "      <td>family community filled with questions after t...</td>\n",
       "    </tr>\n",
       "    <tr>\n",
       "      <th>3</th>\n",
       "      <td>10-01-2019 21:18</td>\n",
       "      <td>1.083470e+18</td>\n",
       "      <td>1</td>\n",
       "      <td>143</td>\n",
       "      <td>21</td>\n",
       "      <td>Twitter for Android</td>\n",
       "      <td>This is Modis #Reservation formula😂.\\r\\n#India...</td>\n",
       "      <td>NaN</td>\n",
       "      <td>this is modis reservation formula indiasupport...</td>\n",
       "      <td>this is modis reservation formula indiasupport...</td>\n",
       "    </tr>\n",
       "    <tr>\n",
       "      <th>4</th>\n",
       "      <td>10-01-2019 21:16</td>\n",
       "      <td>1.083470e+18</td>\n",
       "      <td>1</td>\n",
       "      <td>149</td>\n",
       "      <td>33</td>\n",
       "      <td>Twitter for Android</td>\n",
       "      <td>What about the 4.5 % #Reservation given to min...</td>\n",
       "      <td>NaN</td>\n",
       "      <td>what about the 4 5 reservation given to minori...</td>\n",
       "      <td>what about the 4 5 reservation given to minori...</td>\n",
       "    </tr>\n",
       "  </tbody>\n",
       "</table>\n",
       "</div>"
      ],
      "text/plain": [
       "               Date            ID  Is_RT  Length  Retweets  \\\n",
       "0  10-01-2019 21:23  1.083470e+18      1     198        94   \n",
       "1  10-01-2019 21:22  1.083470e+18      1     251        17   \n",
       "2  10-01-2019 21:22  1.083470e+18      0     155         0   \n",
       "3  10-01-2019 21:18  1.083470e+18      1     143        21   \n",
       "4  10-01-2019 21:16  1.083470e+18      1     149        33   \n",
       "\n",
       "                Source                                              Tweet  \\\n",
       "0  Twitter for Android  📍Lok Sabha\\r\\n  |\\r\\n  |\\r\\n  | _ _ _ _ _ _ _ ...   \n",
       "1   Twitter for iPhone  Someone once told me TN always electing Region...   \n",
       "2  Twitter for Android  Family, community filled with questions after ...   \n",
       "3  Twitter for Android  This is Modis #Reservation formula😂.\\r\\n#India...   \n",
       "4  Twitter for Android  What about the 4.5 % #Reservation given to min...   \n",
       "\n",
       "   Unnamed: 0                                        Clean_Tweet  \\\n",
       "0         NaN  lok sabha women s reservation bill 10 reservat...   \n",
       "1         NaN  someone once told me tn always electing region...   \n",
       "2         NaN  family community filled with questions after t...   \n",
       "3         NaN  this is modis reservation formula indiasupport...   \n",
       "4         NaN  what about the 4 5 reservation given to minori...   \n",
       "\n",
       "                                      filtered_tweet  \n",
       "0  lok sabha women s reservation bill 10 reservat...  \n",
       "1  someone once told me tn always electing region...  \n",
       "2  family community filled with questions after t...  \n",
       "3  this is modis reservation formula indiasupport...  \n",
       "4  what about the 4 5 reservation given to minori...  "
      ]
     },
     "execution_count": 31,
     "metadata": {},
     "output_type": "execute_result"
    }
   ],
   "source": [
    "df.head()"
   ]
  },
  {
   "cell_type": "code",
   "execution_count": 32,
   "metadata": {},
   "outputs": [],
   "source": [
    "x_pos1 = [0,2,4]\n",
    "y_pos1 = [Android_User,Iphone_User,Rest]"
   ]
  },
  {
   "cell_type": "code",
   "execution_count": 33,
   "metadata": {},
   "outputs": [],
   "source": [
    "plt.rcParams['figure.figsize'] = (12.0, 8.0)"
   ]
  },
  {
   "cell_type": "code",
   "execution_count": 49,
   "metadata": {},
   "outputs": [
    {
     "data": {
      "image/png": "[encoded data removed]",
      "text/plain": [
       "<matplotlib.figure.Figure at 0x204ae64b358>"
      ]
     },
     "metadata": {},
     "output_type": "display_data"
    }
   ],
   "source": [
    "plt.bar(x_pos1,y_pos1, width = 1, color = 'blue', edgecolor = 'black', capsize=7)\n",
    "plt.xticks(x_pos1, ['Android_User '+ '(' + str(Android_User) + ')', 'Iphone_User '+'(' + str(Iphone_User)+ ')', 'Rest '+'(' +str(Rest)+ ')'],fontweight = 'bold')\n",
    "plt.title('Tweet Distribution by Device',size = 20, fontweight = 'bold')\n",
    "plt.show()"
   ]
  },
  {
   "cell_type": "code",
   "execution_count": 51,
   "metadata": {},
   "outputs": [],
   "source": [
    "y_pos2 = [Android_RT,Iphone_RT,Rest_RT]"
   ]
  },
  {
   "cell_type": "code",
   "execution_count": 54,
   "metadata": {},
   "outputs": [
    {
     "data": {
      "image/png": "[encoded data removed]",
      "text/plain": [
       "<matplotlib.figure.Figure at 0x204ae5dc6d8>"
      ]
     },
     "metadata": {},
     "output_type": "display_data"
    }
   ],
   "source": [
    "plt.bar(x_pos1,y_pos2, width = 1, color = 'black', edgecolor = 'black', capsize=7)\n",
    "plt.xticks(x_pos1, ['Android_RT '+ '(' + str(Android_RT) + ')', 'Iphone_RT '+'(' + str(Iphone_RT)+ ')', 'Rest_RT '+'(' +str(Rest_RT)+ ')'],fontweight = 'bold')\n",
    "plt.title('Total Retweet count from Individual Device Types',size = 20, fontweight = 'bold')\n",
    "plt.show()"
   ]
  },
  {
   "cell_type": "code",
   "execution_count": 37,
   "metadata": {},
   "outputs": [],
   "source": [
    "z_pos2 = [Avg_Android_User_Retweet_Count,Avg_Iphone_User_Retweet_Count,Avg_Rest_User_Retweet_Count]"
   ]
  },
  {
   "cell_type": "code",
   "execution_count": 38,
   "metadata": {},
   "outputs": [
    {
     "data": {
      "image/png": "[encoded data removed]",
      "text/plain": [
       "<matplotlib.figure.Figure at 0x204ad8bd160>"
      ]
     },
     "metadata": {},
     "output_type": "display_data"
    }
   ],
   "source": [
    "plt.bar(x_pos1,z_pos2, width = 1, color = 'blue', edgecolor = 'black', capsize=7)\n",
    "plt.xticks(x_pos1, ['Android', 'iPhone', 'Rest'],fontweight = 'bold')\n",
    "plt.title('Total Retweets from Individual Device Types',size = 20, fontweight = 'bold')\n",
    "plt.show()"
   ]
  },
  {
   "cell_type": "code",
   "execution_count": 39,
   "metadata": {},
   "outputs": [
    {
     "data": {
      "text/plain": [
       "<matplotlib.legend.Legend at 0x204adcabcf8>"
      ]
     },
     "execution_count": 39,
     "metadata": {},
     "output_type": "execute_result"
    },
    {
     "data": {
      "image/png": "[encoded data removed]",
      "text/plain": [
       "<matplotlib.figure.Figure at 0x204adc482b0>"
      ]
     },
     "metadata": {},
     "output_type": "display_data"
    }
   ],
   "source": [
    "x_pos2 = [0,3]\n",
    "x_pos3 = [1,4]\n",
    "plt.bar(x_pos2,[Iphone_Retweets,iPhone_Tweets], width = 1, color = 'magenta', edgecolor = 'black', capsize=7, label = 'iPhone')\n",
    "plt.bar(x_pos3,[Android_Retweets,Android_Tweets], width = 1, color = 'purple', edgecolor = 'black', capsize=7, label = 'Android')\n",
    "plt.xticks([0.5,3.5], ['Retweets','Tweets'],fontweight = 'bold')\n",
    "plt.title('Tweet vs ReTweet Analysis',size = 20, fontweight = 'bold')\n",
    "plt.legend()"
   ]
  },
  {
   "cell_type": "code",
   "execution_count": 55,
   "metadata": {},
   "outputs": [
    {
     "data": {
      "text/plain": [
       "<matplotlib.legend.Legend at 0x204ae60b748>"
      ]
     },
     "execution_count": 55,
     "metadata": {},
     "output_type": "execute_result"
    },
    {
     "data": {
      "image/png": "[encoded data removed]",
      "text/plain": [
       "<matplotlib.figure.Figure at 0x204ae5eee10>"
      ]
     },
     "metadata": {},
     "output_type": "display_data"
    }
   ],
   "source": [
    "plt.bar(x_pos2,[Avg_Iphone_Tweets,Avg_Android_Tweets], width = 1, color = 'brown', edgecolor = 'black', capsize=7, label = 'Tweet')\n",
    "plt.bar(x_pos3,[Avg_Iphone_Retweets,Avg_Android_Retweets], width = 1, color = 'grey', edgecolor = 'black', capsize=7, label = 'Retweet')\n",
    "plt.xticks([0.5,3.5], ['iPhone','Android'],fontweight = 'bold')\n",
    "plt.title('Avg % Tweet vs ReTweet Analysis',size = 20, fontweight = 'bold')\n",
    "plt.legend()"
   ]
  },
  {
   "cell_type": "code",
   "execution_count": 41,
   "metadata": {},
   "outputs": [],
   "source": [
    "from textblob import TextBlob"
   ]
  },
  {
   "cell_type": "code",
   "execution_count": 42,
   "metadata": {},
   "outputs": [],
   "source": [
    "def sentiment_analysis(tweet):\n",
    "    analysis = TextBlob(tweet)\n",
    "    if analysis.sentiment.polarity > 0:\n",
    "        return 1\n",
    "    elif analysis.sentiment.polarity == 0:\n",
    "        return 0\n",
    "    else:\n",
    "        return -1"
   ]
  },
  {
   "cell_type": "code",
   "execution_count": 43,
   "metadata": {},
   "outputs": [],
   "source": [
    "df['sentiment'] = np.array([sentiment_analysis(tweet) for tweet in df['filtered_tweet']])"
   ]
  },
  {
   "cell_type": "code",
   "execution_count": 44,
   "metadata": {},
   "outputs": [
    {
     "data": {
      "text/plain": [
       " 1    271\n",
       " 0    121\n",
       "-1    108\n",
       "Name: sentiment, dtype: int64"
      ]
     },
     "execution_count": 44,
     "metadata": {},
     "output_type": "execute_result"
    }
   ],
   "source": [
    "df.sentiment.value_counts()"
   ]
  },
  {
   "cell_type": "code",
   "execution_count": 45,
   "metadata": {},
   "outputs": [],
   "source": [
    "Sentiments_count = list(df.sentiment.value_counts())"
   ]
  },
  {
   "cell_type": "code",
   "execution_count": 46,
   "metadata": {},
   "outputs": [
    {
     "data": {
      "text/plain": [
       "[271, 121, 108]"
      ]
     },
     "execution_count": 46,
     "metadata": {},
     "output_type": "execute_result"
    }
   ],
   "source": [
    "Sentiments_count"
   ]
  },
  {
   "cell_type": "code",
   "execution_count": 47,
   "metadata": {},
   "outputs": [],
   "source": [
    "Sentiments = list(df.sentiment.value_counts(1).values*100)\n",
    "Positive_Sentiment = Sentiments[0]\n",
    "Neutral_Sentiment = Sentiments[1]\n",
    "Negative_Sentiment = Sentiments[2]"
   ]
  },
  {
   "cell_type": "code",
   "execution_count": 48,
   "metadata": {},
   "outputs": [
    {
     "data": {
      "image/png": "[encoded data removed]",
      "text/plain": [
       "<matplotlib.figure.Figure at 0x204ae648d30>"
      ]
     },
     "metadata": {},
     "output_type": "display_data"
    }
   ],
   "source": [
    "plt.bar(2,Sentiments_count[0],width = 1, color = 'green', edgecolor = 'black', capsize=7, label='Positive')\n",
    "plt.bar(4,Sentiments_count[1],width = 1, color = 'blue', edgecolor = 'black', capsize=7, label = 'Neutral')\n",
    "plt.bar(6,Sentiments_count[2],width = 1, color = 'red', edgecolor = 'black', capsize=7, label ='Negative')\n",
    "plt.xticks([2,4,6], [Positive_Sentiment, Neutral_Sentiment, Negative_Sentiment],fontweight = 'bold')\n",
    "plt.title('Sentimental Analysis Report',size = 20, fontweight = 'bold')\n",
    "plt.legend()\n",
    "plt.show()"
   ]
  }
 ],
 "metadata": {
  "kernelspec": {
   "display_name": "Python 3",
   "language": "python",
   "name": "python3"
  },
  "language_info": {
   "codemirror_mode": {
    "name": "ipython",
    "version": 3
   },
   "file_extension": ".py",
   "mimetype": "text/x-python",
   "name": "python",
   "nbconvert_exporter": "python",
   "pygments_lexer": "ipython3",
   "version": "3.6.4"
  }
 },
 "nbformat": 4,
 "nbformat_minor": 2
}
