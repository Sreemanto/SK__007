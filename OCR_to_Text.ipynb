{
 "cells": [
  {
   "cell_type": "code",
   "execution_count": 7,
   "metadata": {},
   "outputs": [],
   "source": [
    "import cv2\n",
    "import pytesseract\n",
    "from PIL import Image"
   ]
  },
  {
   "cell_type": "code",
   "execution_count": 8,
   "metadata": {},
   "outputs": [
    {
     "data": {
      "text/plain": [
       "'4.0.0'"
      ]
     },
     "execution_count": 8,
     "metadata": {},
     "output_type": "execute_result"
    }
   ],
   "source": [
    "cv2.__version__"
   ]
  },
  {
   "cell_type": "code",
   "execution_count": 9,
   "metadata": {},
   "outputs": [],
   "source": [
    "Img = Image.open('page_0.tiff')"
   ]
  },
  {
   "cell_type": "code",
   "execution_count": 10,
   "metadata": {},
   "outputs": [],
   "source": [
    "pytesseract.pytesseract.tesseract_cmd = 'C:/Users/ksree/AppData/Local/Tesseract-OCR/tesseract'"
   ]
  },
  {
   "cell_type": "code",
   "execution_count": 11,
   "metadata": {
    "scrolled": true
   },
   "outputs": [
    {
     "name": "stderr",
     "output_type": "stream",
     "text": [
      "C:\\Users\\ksree\\Anaconda3\\lib\\site-packages\\PIL\\TiffImagePlugin.py:569: UserWarning: Metadata Warning, tag 282 had too many entries: 2, expected 1\n",
      "  tag, len(values)))\n",
      "C:\\Users\\ksree\\Anaconda3\\lib\\site-packages\\PIL\\TiffImagePlugin.py:569: UserWarning: Metadata Warning, tag 283 had too many entries: 2, expected 1\n",
      "  tag, len(values)))\n"
     ]
    },
    {
     "name": "stdout",
     "output_type": "stream",
     "text": [
      "110 9 . - 86 = 1099. 9% 250.\n",
      "1050 «015. 6218 002 8G tO JO 20-\n",
      "1000 0 - - 0H 99,1998 75\n",
      "950 0 “ . <8 = gh 996 50\n",
      "900 0 * - ‘ $99.916 145-\n",
      "850 030 4.436 89.006 OB 849,916 90\n",
      "600 0 « - 078 = =—_-799.928 186\n",
      "750 0 - . 078 9.922 aio\n",
      "\n",
      "70 O45) og gah 2010 » 078 699.922 425\n",
      "650 100 gare Jono jogs == 69.932 130\n",
      "600 030 Ohs6 006 ,088 599, 9h 115\n",
      "550 930 oka - 006 052 Shp 946 120\n",
      "i es :) 120\n",
      "450 030 8 och36 = 006.036 9G 5\n",
      "400 O45 86g gs, cote, 090 3992970 135\n",
      "350 830 = oje36 ~ 006 2020 6980 285\n",
      "300 015) «ote §8= lomz,—(‘éislttSCitg iC\n",
      "\n",
      "250 930 on3¢ 006 012 m9 ig8s 116\n",
      "200 030 o.918 .003 _0n6 199799% 116.\n",
      "75 930 o,218 003 003 409.997 195\n",
      "\n",
      "ah ok oe ae om et oe he me Re i ol a i Oe eye ee\n",
      "\n",
      "Contdereee 0001 6/\n"
     ]
    }
   ],
   "source": [
    "print(pytesseract.image_to_string(Img))"
   ]
  },
  {
   "cell_type": "code",
   "execution_count": null,
   "metadata": {},
   "outputs": [],
   "source": []
  }
 ],
 "metadata": {
  "kernelspec": {
   "display_name": "Python 3",
   "language": "python",
   "name": "python3"
  },
  "language_info": {
   "codemirror_mode": {
    "name": "ipython",
    "version": 3
   },
   "file_extension": ".py",
   "mimetype": "text/x-python",
   "name": "python",
   "nbconvert_exporter": "python",
   "pygments_lexer": "ipython3",
   "version": "3.6.4"
  }
 },
 "nbformat": 4,
 "nbformat_minor": 2
}
