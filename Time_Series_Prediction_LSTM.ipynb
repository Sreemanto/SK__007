{
 "cells": [
  {
   "cell_type": "markdown",
   "metadata": {},
   "source": [
    "##  Loading the neccessary Libraries"
   ]
  },
  {
   "cell_type": "code",
   "execution_count": 1,
   "metadata": {},
   "outputs": [],
   "source": [
    "import pandas as pd\n",
    "import numpy as np\n",
    "from numpy import sqrt\n",
    "import matplotlib.pyplot as plt"
   ]
  },
  {
   "cell_type": "markdown",
   "metadata": {},
   "source": [
    "## Loading the Dataset"
   ]
  },
  {
   "cell_type": "code",
   "execution_count": 2,
   "metadata": {},
   "outputs": [],
   "source": [
    "df = pd.read_csv('Electricity_Bill.csv')"
   ]
  },
  {
   "cell_type": "code",
   "execution_count": 3,
   "metadata": {},
   "outputs": [
    {
     "data": {
      "text/html": [
       "<div>\n",
       "<style scoped>\n",
       "    .dataframe tbody tr th:only-of-type {\n",
       "        vertical-align: middle;\n",
       "    }\n",
       "\n",
       "    .dataframe tbody tr th {\n",
       "        vertical-align: top;\n",
       "    }\n",
       "\n",
       "    .dataframe thead th {\n",
       "        text-align: right;\n",
       "    }\n",
       "</style>\n",
       "<table border=\"1\" class=\"dataframe\">\n",
       "  <thead>\n",
       "    <tr style=\"text-align: right;\">\n",
       "      <th></th>\n",
       "      <th>TYPE</th>\n",
       "      <th>DATE</th>\n",
       "      <th>START TIME</th>\n",
       "      <th>END TIME</th>\n",
       "      <th>USAGE</th>\n",
       "      <th>UNITS</th>\n",
       "      <th>COST</th>\n",
       "      <th>NOTES</th>\n",
       "    </tr>\n",
       "  </thead>\n",
       "  <tbody>\n",
       "    <tr>\n",
       "      <th>0</th>\n",
       "      <td>Electric usage</td>\n",
       "      <td>11/1/16</td>\n",
       "      <td>0:00</td>\n",
       "      <td>0:14</td>\n",
       "      <td>0.07</td>\n",
       "      <td>kWh</td>\n",
       "      <td>$0.01</td>\n",
       "      <td>NaN</td>\n",
       "    </tr>\n",
       "    <tr>\n",
       "      <th>1</th>\n",
       "      <td>Electric usage</td>\n",
       "      <td>11/1/16</td>\n",
       "      <td>0:15</td>\n",
       "      <td>0:29</td>\n",
       "      <td>0.05</td>\n",
       "      <td>kWh</td>\n",
       "      <td>$0.01</td>\n",
       "      <td>NaN</td>\n",
       "    </tr>\n",
       "    <tr>\n",
       "      <th>2</th>\n",
       "      <td>Electric usage</td>\n",
       "      <td>11/1/16</td>\n",
       "      <td>0:30</td>\n",
       "      <td>0:44</td>\n",
       "      <td>0.06</td>\n",
       "      <td>kWh</td>\n",
       "      <td>$0.01</td>\n",
       "      <td>NaN</td>\n",
       "    </tr>\n",
       "    <tr>\n",
       "      <th>3</th>\n",
       "      <td>Electric usage</td>\n",
       "      <td>11/1/16</td>\n",
       "      <td>0:45</td>\n",
       "      <td>0:59</td>\n",
       "      <td>0.05</td>\n",
       "      <td>kWh</td>\n",
       "      <td>$0.01</td>\n",
       "      <td>NaN</td>\n",
       "    </tr>\n",
       "    <tr>\n",
       "      <th>4</th>\n",
       "      <td>Electric usage</td>\n",
       "      <td>11/1/16</td>\n",
       "      <td>1:00</td>\n",
       "      <td>1:14</td>\n",
       "      <td>0.03</td>\n",
       "      <td>kWh</td>\n",
       "      <td>$0.01</td>\n",
       "      <td>NaN</td>\n",
       "    </tr>\n",
       "  </tbody>\n",
       "</table>\n",
       "</div>"
      ],
      "text/plain": [
       "             TYPE     DATE START TIME END TIME  USAGE UNITS    COST NOTES\n",
       "0  Electric usage  11/1/16       0:00     0:14   0.07   kWh  $0.01    NaN\n",
       "1  Electric usage  11/1/16       0:15     0:29   0.05   kWh  $0.01    NaN\n",
       "2  Electric usage  11/1/16       0:30     0:44   0.06   kWh  $0.01    NaN\n",
       "3  Electric usage  11/1/16       0:45     0:59   0.05   kWh  $0.01    NaN\n",
       "4  Electric usage  11/1/16       1:00     1:14   0.03   kWh  $0.01    NaN"
      ]
     },
     "execution_count": 3,
     "metadata": {},
     "output_type": "execute_result"
    }
   ],
   "source": [
    "df.head(5)"
   ]
  },
  {
   "cell_type": "code",
   "execution_count": 4,
   "metadata": {},
   "outputs": [
    {
     "data": {
      "text/plain": [
       "(31864, 8)"
      ]
     },
     "execution_count": 4,
     "metadata": {},
     "output_type": "execute_result"
    }
   ],
   "source": [
    "df.shape"
   ]
  },
  {
   "cell_type": "code",
   "execution_count": 5,
   "metadata": {},
   "outputs": [
    {
     "data": {
      "text/plain": [
       "0"
      ]
     },
     "execution_count": 5,
     "metadata": {},
     "output_type": "execute_result"
    }
   ],
   "source": [
    "df.USAGE.isnull().sum()"
   ]
  },
  {
   "cell_type": "code",
   "execution_count": 6,
   "metadata": {
    "scrolled": true
   },
   "outputs": [
    {
     "data": {
      "text/plain": [
       "0"
      ]
     },
     "execution_count": 6,
     "metadata": {},
     "output_type": "execute_result"
    }
   ],
   "source": [
    "df.DATE.isnull().sum()"
   ]
  },
  {
   "cell_type": "code",
   "execution_count": 7,
   "metadata": {},
   "outputs": [
    {
     "data": {
      "text/plain": [
       "count    31864.000000\n",
       "mean         0.126867\n",
       "std          0.255874\n",
       "min          0.010000\n",
       "25%          0.020000\n",
       "50%          0.040000\n",
       "75%          0.090000\n",
       "max          2.820000\n",
       "Name: USAGE, dtype: float64"
      ]
     },
     "execution_count": 7,
     "metadata": {},
     "output_type": "execute_result"
    }
   ],
   "source": [
    "df.USAGE.describe()"
   ]
  },
  {
   "cell_type": "markdown",
   "metadata": {},
   "source": [
    "# Preprocessing and Feature Engineering"
   ]
  },
  {
   "cell_type": "markdown",
   "metadata": {},
   "source": [
    "## Adding a variable TIME byconcatenting DATE, START TIME and END TIME"
   ]
  },
  {
   "cell_type": "code",
   "execution_count": 8,
   "metadata": {},
   "outputs": [],
   "source": [
    "df[\"TIME\"] = pd.to_datetime(df.DATE + \" \" + df[\"END TIME\"])"
   ]
  },
  {
   "cell_type": "code",
   "execution_count": 9,
   "metadata": {},
   "outputs": [
    {
     "data": {
      "text/html": [
       "<div>\n",
       "<style scoped>\n",
       "    .dataframe tbody tr th:only-of-type {\n",
       "        vertical-align: middle;\n",
       "    }\n",
       "\n",
       "    .dataframe tbody tr th {\n",
       "        vertical-align: top;\n",
       "    }\n",
       "\n",
       "    .dataframe thead th {\n",
       "        text-align: right;\n",
       "    }\n",
       "</style>\n",
       "<table border=\"1\" class=\"dataframe\">\n",
       "  <thead>\n",
       "    <tr style=\"text-align: right;\">\n",
       "      <th></th>\n",
       "      <th>TYPE</th>\n",
       "      <th>DATE</th>\n",
       "      <th>START TIME</th>\n",
       "      <th>END TIME</th>\n",
       "      <th>USAGE</th>\n",
       "      <th>UNITS</th>\n",
       "      <th>COST</th>\n",
       "      <th>NOTES</th>\n",
       "      <th>TIME</th>\n",
       "    </tr>\n",
       "  </thead>\n",
       "  <tbody>\n",
       "    <tr>\n",
       "      <th>0</th>\n",
       "      <td>Electric usage</td>\n",
       "      <td>11/1/16</td>\n",
       "      <td>0:00</td>\n",
       "      <td>0:14</td>\n",
       "      <td>0.07</td>\n",
       "      <td>kWh</td>\n",
       "      <td>$0.01</td>\n",
       "      <td>NaN</td>\n",
       "      <td>2016-11-01 00:14:00</td>\n",
       "    </tr>\n",
       "    <tr>\n",
       "      <th>1</th>\n",
       "      <td>Electric usage</td>\n",
       "      <td>11/1/16</td>\n",
       "      <td>0:15</td>\n",
       "      <td>0:29</td>\n",
       "      <td>0.05</td>\n",
       "      <td>kWh</td>\n",
       "      <td>$0.01</td>\n",
       "      <td>NaN</td>\n",
       "      <td>2016-11-01 00:29:00</td>\n",
       "    </tr>\n",
       "    <tr>\n",
       "      <th>2</th>\n",
       "      <td>Electric usage</td>\n",
       "      <td>11/1/16</td>\n",
       "      <td>0:30</td>\n",
       "      <td>0:44</td>\n",
       "      <td>0.06</td>\n",
       "      <td>kWh</td>\n",
       "      <td>$0.01</td>\n",
       "      <td>NaN</td>\n",
       "      <td>2016-11-01 00:44:00</td>\n",
       "    </tr>\n",
       "    <tr>\n",
       "      <th>3</th>\n",
       "      <td>Electric usage</td>\n",
       "      <td>11/1/16</td>\n",
       "      <td>0:45</td>\n",
       "      <td>0:59</td>\n",
       "      <td>0.05</td>\n",
       "      <td>kWh</td>\n",
       "      <td>$0.01</td>\n",
       "      <td>NaN</td>\n",
       "      <td>2016-11-01 00:59:00</td>\n",
       "    </tr>\n",
       "    <tr>\n",
       "      <th>4</th>\n",
       "      <td>Electric usage</td>\n",
       "      <td>11/1/16</td>\n",
       "      <td>1:00</td>\n",
       "      <td>1:14</td>\n",
       "      <td>0.03</td>\n",
       "      <td>kWh</td>\n",
       "      <td>$0.01</td>\n",
       "      <td>NaN</td>\n",
       "      <td>2016-11-01 01:14:00</td>\n",
       "    </tr>\n",
       "  </tbody>\n",
       "</table>\n",
       "</div>"
      ],
      "text/plain": [
       "             TYPE     DATE START TIME END TIME  USAGE UNITS    COST NOTES  \\\n",
       "0  Electric usage  11/1/16       0:00     0:14   0.07   kWh  $0.01    NaN   \n",
       "1  Electric usage  11/1/16       0:15     0:29   0.05   kWh  $0.01    NaN   \n",
       "2  Electric usage  11/1/16       0:30     0:44   0.06   kWh  $0.01    NaN   \n",
       "3  Electric usage  11/1/16       0:45     0:59   0.05   kWh  $0.01    NaN   \n",
       "4  Electric usage  11/1/16       1:00     1:14   0.03   kWh  $0.01    NaN   \n",
       "\n",
       "                 TIME  \n",
       "0 2016-11-01 00:14:00  \n",
       "1 2016-11-01 00:29:00  \n",
       "2 2016-11-01 00:44:00  \n",
       "3 2016-11-01 00:59:00  \n",
       "4 2016-11-01 01:14:00  "
      ]
     },
     "execution_count": 9,
     "metadata": {},
     "output_type": "execute_result"
    }
   ],
   "source": [
    "df.head()"
   ]
  },
  {
   "cell_type": "code",
   "execution_count": 10,
   "metadata": {},
   "outputs": [
    {
     "data": {
      "text/plain": [
       "Timestamp('2017-09-30 23:59:00')"
      ]
     },
     "execution_count": 10,
     "metadata": {},
     "output_type": "execute_result"
    }
   ],
   "source": [
    "df.TIME.max()"
   ]
  },
  {
   "cell_type": "markdown",
   "metadata": {},
   "source": [
    "## Extracting the weekend feature"
   ]
  },
  {
   "cell_type": "code",
   "execution_count": 11,
   "metadata": {},
   "outputs": [],
   "source": [
    "df[\"IS_WEEKEND\"] = df.TIME.apply(lambda x: 1 if x.dayofweek > 5 else 0)"
   ]
  },
  {
   "cell_type": "code",
   "execution_count": 12,
   "metadata": {},
   "outputs": [
    {
     "data": {
      "text/html": [
       "<div>\n",
       "<style scoped>\n",
       "    .dataframe tbody tr th:only-of-type {\n",
       "        vertical-align: middle;\n",
       "    }\n",
       "\n",
       "    .dataframe tbody tr th {\n",
       "        vertical-align: top;\n",
       "    }\n",
       "\n",
       "    .dataframe thead th {\n",
       "        text-align: right;\n",
       "    }\n",
       "</style>\n",
       "<table border=\"1\" class=\"dataframe\">\n",
       "  <thead>\n",
       "    <tr style=\"text-align: right;\">\n",
       "      <th></th>\n",
       "      <th>TYPE</th>\n",
       "      <th>DATE</th>\n",
       "      <th>START TIME</th>\n",
       "      <th>END TIME</th>\n",
       "      <th>USAGE</th>\n",
       "      <th>UNITS</th>\n",
       "      <th>COST</th>\n",
       "      <th>NOTES</th>\n",
       "      <th>TIME</th>\n",
       "      <th>IS_WEEKEND</th>\n",
       "    </tr>\n",
       "  </thead>\n",
       "  <tbody>\n",
       "    <tr>\n",
       "      <th>0</th>\n",
       "      <td>Electric usage</td>\n",
       "      <td>11/1/16</td>\n",
       "      <td>0:00</td>\n",
       "      <td>0:14</td>\n",
       "      <td>0.07</td>\n",
       "      <td>kWh</td>\n",
       "      <td>$0.01</td>\n",
       "      <td>NaN</td>\n",
       "      <td>2016-11-01 00:14:00</td>\n",
       "      <td>0</td>\n",
       "    </tr>\n",
       "    <tr>\n",
       "      <th>1</th>\n",
       "      <td>Electric usage</td>\n",
       "      <td>11/1/16</td>\n",
       "      <td>0:15</td>\n",
       "      <td>0:29</td>\n",
       "      <td>0.05</td>\n",
       "      <td>kWh</td>\n",
       "      <td>$0.01</td>\n",
       "      <td>NaN</td>\n",
       "      <td>2016-11-01 00:29:00</td>\n",
       "      <td>0</td>\n",
       "    </tr>\n",
       "    <tr>\n",
       "      <th>2</th>\n",
       "      <td>Electric usage</td>\n",
       "      <td>11/1/16</td>\n",
       "      <td>0:30</td>\n",
       "      <td>0:44</td>\n",
       "      <td>0.06</td>\n",
       "      <td>kWh</td>\n",
       "      <td>$0.01</td>\n",
       "      <td>NaN</td>\n",
       "      <td>2016-11-01 00:44:00</td>\n",
       "      <td>0</td>\n",
       "    </tr>\n",
       "    <tr>\n",
       "      <th>3</th>\n",
       "      <td>Electric usage</td>\n",
       "      <td>11/1/16</td>\n",
       "      <td>0:45</td>\n",
       "      <td>0:59</td>\n",
       "      <td>0.05</td>\n",
       "      <td>kWh</td>\n",
       "      <td>$0.01</td>\n",
       "      <td>NaN</td>\n",
       "      <td>2016-11-01 00:59:00</td>\n",
       "      <td>0</td>\n",
       "    </tr>\n",
       "    <tr>\n",
       "      <th>4</th>\n",
       "      <td>Electric usage</td>\n",
       "      <td>11/1/16</td>\n",
       "      <td>1:00</td>\n",
       "      <td>1:14</td>\n",
       "      <td>0.03</td>\n",
       "      <td>kWh</td>\n",
       "      <td>$0.01</td>\n",
       "      <td>NaN</td>\n",
       "      <td>2016-11-01 01:14:00</td>\n",
       "      <td>0</td>\n",
       "    </tr>\n",
       "  </tbody>\n",
       "</table>\n",
       "</div>"
      ],
      "text/plain": [
       "             TYPE     DATE START TIME END TIME  USAGE UNITS    COST NOTES  \\\n",
       "0  Electric usage  11/1/16       0:00     0:14   0.07   kWh  $0.01    NaN   \n",
       "1  Electric usage  11/1/16       0:15     0:29   0.05   kWh  $0.01    NaN   \n",
       "2  Electric usage  11/1/16       0:30     0:44   0.06   kWh  $0.01    NaN   \n",
       "3  Electric usage  11/1/16       0:45     0:59   0.05   kWh  $0.01    NaN   \n",
       "4  Electric usage  11/1/16       1:00     1:14   0.03   kWh  $0.01    NaN   \n",
       "\n",
       "                 TIME  IS_WEEKEND  \n",
       "0 2016-11-01 00:14:00           0  \n",
       "1 2016-11-01 00:29:00           0  \n",
       "2 2016-11-01 00:44:00           0  \n",
       "3 2016-11-01 00:59:00           0  \n",
       "4 2016-11-01 01:14:00           0  "
      ]
     },
     "execution_count": 12,
     "metadata": {},
     "output_type": "execute_result"
    }
   ],
   "source": [
    "df.head(5)"
   ]
  },
  {
   "cell_type": "markdown",
   "metadata": {},
   "source": [
    "## Consumption in weekends > Consumption in weekdays"
   ]
  },
  {
   "cell_type": "code",
   "execution_count": 13,
   "metadata": {},
   "outputs": [
    {
     "data": {
      "text/plain": [
       "0.1504011786038008"
      ]
     },
     "execution_count": 13,
     "metadata": {},
     "output_type": "execute_result"
    }
   ],
   "source": [
    "df[df.IS_WEEKEND == 1].USAGE.mean()"
   ]
  },
  {
   "cell_type": "code",
   "execution_count": 14,
   "metadata": {},
   "outputs": [
    {
     "data": {
      "text/plain": [
       "0.12308429258345209"
      ]
     },
     "execution_count": 14,
     "metadata": {},
     "output_type": "execute_result"
    }
   ],
   "source": [
    "df[df.IS_WEEKEND == 0].USAGE.mean()"
   ]
  },
  {
   "cell_type": "markdown",
   "metadata": {},
   "source": [
    "## Adding last 5 usage to each input value"
   ]
  },
  {
   "cell_type": "code",
   "execution_count": 15,
   "metadata": {},
   "outputs": [],
   "source": [
    "for i in range(1,6):\n",
    "    df[\"T_\" + str(i)] = df.USAGE.shift(i)"
   ]
  },
  {
   "cell_type": "code",
   "execution_count": 16,
   "metadata": {},
   "outputs": [],
   "source": [
    "df.fillna(0,inplace=True)"
   ]
  },
  {
   "cell_type": "code",
   "execution_count": 17,
   "metadata": {},
   "outputs": [
    {
     "data": {
      "text/html": [
       "<div>\n",
       "<style scoped>\n",
       "    .dataframe tbody tr th:only-of-type {\n",
       "        vertical-align: middle;\n",
       "    }\n",
       "\n",
       "    .dataframe tbody tr th {\n",
       "        vertical-align: top;\n",
       "    }\n",
       "\n",
       "    .dataframe thead th {\n",
       "        text-align: right;\n",
       "    }\n",
       "</style>\n",
       "<table border=\"1\" class=\"dataframe\">\n",
       "  <thead>\n",
       "    <tr style=\"text-align: right;\">\n",
       "      <th></th>\n",
       "      <th>TYPE</th>\n",
       "      <th>DATE</th>\n",
       "      <th>START TIME</th>\n",
       "      <th>END TIME</th>\n",
       "      <th>USAGE</th>\n",
       "      <th>UNITS</th>\n",
       "      <th>COST</th>\n",
       "      <th>NOTES</th>\n",
       "      <th>TIME</th>\n",
       "      <th>IS_WEEKEND</th>\n",
       "      <th>T_1</th>\n",
       "      <th>T_2</th>\n",
       "      <th>T_3</th>\n",
       "      <th>T_4</th>\n",
       "      <th>T_5</th>\n",
       "    </tr>\n",
       "  </thead>\n",
       "  <tbody>\n",
       "    <tr>\n",
       "      <th>0</th>\n",
       "      <td>Electric usage</td>\n",
       "      <td>11/1/16</td>\n",
       "      <td>0:00</td>\n",
       "      <td>0:14</td>\n",
       "      <td>0.07</td>\n",
       "      <td>kWh</td>\n",
       "      <td>$0.01</td>\n",
       "      <td>0</td>\n",
       "      <td>2016-11-01 00:14:00</td>\n",
       "      <td>0</td>\n",
       "      <td>0.00</td>\n",
       "      <td>0.00</td>\n",
       "      <td>0.00</td>\n",
       "      <td>0.00</td>\n",
       "      <td>0.0</td>\n",
       "    </tr>\n",
       "    <tr>\n",
       "      <th>1</th>\n",
       "      <td>Electric usage</td>\n",
       "      <td>11/1/16</td>\n",
       "      <td>0:15</td>\n",
       "      <td>0:29</td>\n",
       "      <td>0.05</td>\n",
       "      <td>kWh</td>\n",
       "      <td>$0.01</td>\n",
       "      <td>0</td>\n",
       "      <td>2016-11-01 00:29:00</td>\n",
       "      <td>0</td>\n",
       "      <td>0.07</td>\n",
       "      <td>0.00</td>\n",
       "      <td>0.00</td>\n",
       "      <td>0.00</td>\n",
       "      <td>0.0</td>\n",
       "    </tr>\n",
       "    <tr>\n",
       "      <th>2</th>\n",
       "      <td>Electric usage</td>\n",
       "      <td>11/1/16</td>\n",
       "      <td>0:30</td>\n",
       "      <td>0:44</td>\n",
       "      <td>0.06</td>\n",
       "      <td>kWh</td>\n",
       "      <td>$0.01</td>\n",
       "      <td>0</td>\n",
       "      <td>2016-11-01 00:44:00</td>\n",
       "      <td>0</td>\n",
       "      <td>0.05</td>\n",
       "      <td>0.07</td>\n",
       "      <td>0.00</td>\n",
       "      <td>0.00</td>\n",
       "      <td>0.0</td>\n",
       "    </tr>\n",
       "    <tr>\n",
       "      <th>3</th>\n",
       "      <td>Electric usage</td>\n",
       "      <td>11/1/16</td>\n",
       "      <td>0:45</td>\n",
       "      <td>0:59</td>\n",
       "      <td>0.05</td>\n",
       "      <td>kWh</td>\n",
       "      <td>$0.01</td>\n",
       "      <td>0</td>\n",
       "      <td>2016-11-01 00:59:00</td>\n",
       "      <td>0</td>\n",
       "      <td>0.06</td>\n",
       "      <td>0.05</td>\n",
       "      <td>0.07</td>\n",
       "      <td>0.00</td>\n",
       "      <td>0.0</td>\n",
       "    </tr>\n",
       "    <tr>\n",
       "      <th>4</th>\n",
       "      <td>Electric usage</td>\n",
       "      <td>11/1/16</td>\n",
       "      <td>1:00</td>\n",
       "      <td>1:14</td>\n",
       "      <td>0.03</td>\n",
       "      <td>kWh</td>\n",
       "      <td>$0.01</td>\n",
       "      <td>0</td>\n",
       "      <td>2016-11-01 01:14:00</td>\n",
       "      <td>0</td>\n",
       "      <td>0.05</td>\n",
       "      <td>0.06</td>\n",
       "      <td>0.05</td>\n",
       "      <td>0.07</td>\n",
       "      <td>0.0</td>\n",
       "    </tr>\n",
       "  </tbody>\n",
       "</table>\n",
       "</div>"
      ],
      "text/plain": [
       "             TYPE     DATE START TIME END TIME  USAGE UNITS    COST NOTES  \\\n",
       "0  Electric usage  11/1/16       0:00     0:14   0.07   kWh  $0.01      0   \n",
       "1  Electric usage  11/1/16       0:15     0:29   0.05   kWh  $0.01      0   \n",
       "2  Electric usage  11/1/16       0:30     0:44   0.06   kWh  $0.01      0   \n",
       "3  Electric usage  11/1/16       0:45     0:59   0.05   kWh  $0.01      0   \n",
       "4  Electric usage  11/1/16       1:00     1:14   0.03   kWh  $0.01      0   \n",
       "\n",
       "                 TIME  IS_WEEKEND   T_1   T_2   T_3   T_4  T_5  \n",
       "0 2016-11-01 00:14:00           0  0.00  0.00  0.00  0.00  0.0  \n",
       "1 2016-11-01 00:29:00           0  0.07  0.00  0.00  0.00  0.0  \n",
       "2 2016-11-01 00:44:00           0  0.05  0.07  0.00  0.00  0.0  \n",
       "3 2016-11-01 00:59:00           0  0.06  0.05  0.07  0.00  0.0  \n",
       "4 2016-11-01 01:14:00           0  0.05  0.06  0.05  0.07  0.0  "
      ]
     },
     "execution_count": 17,
     "metadata": {},
     "output_type": "execute_result"
    }
   ],
   "source": [
    "df.head()"
   ]
  },
  {
   "cell_type": "markdown",
   "metadata": {},
   "source": [
    "## Sticking to only relevant features"
   ]
  },
  {
   "cell_type": "code",
   "execution_count": 18,
   "metadata": {},
   "outputs": [],
   "source": [
    "df = df[['TIME','IS_WEEKEND', 'T_1','T_2', 'T_3', 'T_4', 'T_5','USAGE']]"
   ]
  },
  {
   "cell_type": "markdown",
   "metadata": {},
   "source": [
    "## November 2016 - August 2017 = Training Set"
   ]
  },
  {
   "cell_type": "code",
   "execution_count": 19,
   "metadata": {},
   "outputs": [
    {
     "data": {
      "text/html": [
       "<div>\n",
       "<style scoped>\n",
       "    .dataframe tbody tr th:only-of-type {\n",
       "        vertical-align: middle;\n",
       "    }\n",
       "\n",
       "    .dataframe tbody tr th {\n",
       "        vertical-align: top;\n",
       "    }\n",
       "\n",
       "    .dataframe thead th {\n",
       "        text-align: right;\n",
       "    }\n",
       "</style>\n",
       "<table border=\"1\" class=\"dataframe\">\n",
       "  <thead>\n",
       "    <tr style=\"text-align: right;\">\n",
       "      <th></th>\n",
       "      <th>TIME</th>\n",
       "      <th>IS_WEEKEND</th>\n",
       "      <th>T_1</th>\n",
       "      <th>T_2</th>\n",
       "      <th>T_3</th>\n",
       "      <th>T_4</th>\n",
       "      <th>T_5</th>\n",
       "      <th>USAGE</th>\n",
       "    </tr>\n",
       "  </thead>\n",
       "  <tbody>\n",
       "    <tr>\n",
       "      <th>26004</th>\n",
       "      <td>2017-07-31 22:59:00</td>\n",
       "      <td>0</td>\n",
       "      <td>0.27</td>\n",
       "      <td>0.44</td>\n",
       "      <td>0.12</td>\n",
       "      <td>0.12</td>\n",
       "      <td>0.31</td>\n",
       "      <td>0.10</td>\n",
       "    </tr>\n",
       "    <tr>\n",
       "      <th>26005</th>\n",
       "      <td>2017-07-31 23:14:00</td>\n",
       "      <td>0</td>\n",
       "      <td>0.10</td>\n",
       "      <td>0.27</td>\n",
       "      <td>0.44</td>\n",
       "      <td>0.12</td>\n",
       "      <td>0.12</td>\n",
       "      <td>0.15</td>\n",
       "    </tr>\n",
       "    <tr>\n",
       "      <th>26006</th>\n",
       "      <td>2017-07-31 23:29:00</td>\n",
       "      <td>0</td>\n",
       "      <td>0.15</td>\n",
       "      <td>0.10</td>\n",
       "      <td>0.27</td>\n",
       "      <td>0.44</td>\n",
       "      <td>0.12</td>\n",
       "      <td>0.12</td>\n",
       "    </tr>\n",
       "    <tr>\n",
       "      <th>26007</th>\n",
       "      <td>2017-07-31 23:44:00</td>\n",
       "      <td>0</td>\n",
       "      <td>0.12</td>\n",
       "      <td>0.15</td>\n",
       "      <td>0.10</td>\n",
       "      <td>0.27</td>\n",
       "      <td>0.44</td>\n",
       "      <td>0.11</td>\n",
       "    </tr>\n",
       "    <tr>\n",
       "      <th>26008</th>\n",
       "      <td>2017-07-31 23:59:00</td>\n",
       "      <td>0</td>\n",
       "      <td>0.11</td>\n",
       "      <td>0.12</td>\n",
       "      <td>0.15</td>\n",
       "      <td>0.10</td>\n",
       "      <td>0.27</td>\n",
       "      <td>0.10</td>\n",
       "    </tr>\n",
       "  </tbody>\n",
       "</table>\n",
       "</div>"
      ],
      "text/plain": [
       "                     TIME  IS_WEEKEND   T_1   T_2   T_3   T_4   T_5  USAGE\n",
       "26004 2017-07-31 22:59:00           0  0.27  0.44  0.12  0.12  0.31   0.10\n",
       "26005 2017-07-31 23:14:00           0  0.10  0.27  0.44  0.12  0.12   0.15\n",
       "26006 2017-07-31 23:29:00           0  0.15  0.10  0.27  0.44  0.12   0.12\n",
       "26007 2017-07-31 23:44:00           0  0.12  0.15  0.10  0.27  0.44   0.11\n",
       "26008 2017-07-31 23:59:00           0  0.11  0.12  0.15  0.10  0.27   0.10"
      ]
     },
     "execution_count": 19,
     "metadata": {},
     "output_type": "execute_result"
    }
   ],
   "source": [
    "training_data = df[df.TIME < pd.to_datetime(\"08/01/2017\")]\n",
    "training_data.tail(5)"
   ]
  },
  {
   "cell_type": "markdown",
   "metadata": {},
   "source": [
    "## August 2017 = Validation Set"
   ]
  },
  {
   "cell_type": "code",
   "execution_count": 20,
   "metadata": {},
   "outputs": [],
   "source": [
    "validation_data = df.loc[((df.TIME >= pd.to_datetime('08/01/2017')) & (df.TIME < pd.to_datetime('09/01/2017')))]"
   ]
  },
  {
   "cell_type": "code",
   "execution_count": 21,
   "metadata": {},
   "outputs": [
    {
     "data": {
      "text/html": [
       "<div>\n",
       "<style scoped>\n",
       "    .dataframe tbody tr th:only-of-type {\n",
       "        vertical-align: middle;\n",
       "    }\n",
       "\n",
       "    .dataframe tbody tr th {\n",
       "        vertical-align: top;\n",
       "    }\n",
       "\n",
       "    .dataframe thead th {\n",
       "        text-align: right;\n",
       "    }\n",
       "</style>\n",
       "<table border=\"1\" class=\"dataframe\">\n",
       "  <thead>\n",
       "    <tr style=\"text-align: right;\">\n",
       "      <th></th>\n",
       "      <th>TIME</th>\n",
       "      <th>IS_WEEKEND</th>\n",
       "      <th>T_1</th>\n",
       "      <th>T_2</th>\n",
       "      <th>T_3</th>\n",
       "      <th>T_4</th>\n",
       "      <th>T_5</th>\n",
       "      <th>USAGE</th>\n",
       "    </tr>\n",
       "  </thead>\n",
       "  <tbody>\n",
       "    <tr>\n",
       "      <th>26009</th>\n",
       "      <td>2017-08-01 00:14:00</td>\n",
       "      <td>0</td>\n",
       "      <td>0.10</td>\n",
       "      <td>0.11</td>\n",
       "      <td>0.12</td>\n",
       "      <td>0.15</td>\n",
       "      <td>0.10</td>\n",
       "      <td>0.10</td>\n",
       "    </tr>\n",
       "    <tr>\n",
       "      <th>26010</th>\n",
       "      <td>2017-08-01 00:29:00</td>\n",
       "      <td>0</td>\n",
       "      <td>0.10</td>\n",
       "      <td>0.10</td>\n",
       "      <td>0.11</td>\n",
       "      <td>0.12</td>\n",
       "      <td>0.15</td>\n",
       "      <td>0.10</td>\n",
       "    </tr>\n",
       "    <tr>\n",
       "      <th>26011</th>\n",
       "      <td>2017-08-01 00:44:00</td>\n",
       "      <td>0</td>\n",
       "      <td>0.10</td>\n",
       "      <td>0.10</td>\n",
       "      <td>0.10</td>\n",
       "      <td>0.11</td>\n",
       "      <td>0.12</td>\n",
       "      <td>0.08</td>\n",
       "    </tr>\n",
       "    <tr>\n",
       "      <th>26012</th>\n",
       "      <td>2017-08-01 00:59:00</td>\n",
       "      <td>0</td>\n",
       "      <td>0.08</td>\n",
       "      <td>0.10</td>\n",
       "      <td>0.10</td>\n",
       "      <td>0.10</td>\n",
       "      <td>0.11</td>\n",
       "      <td>0.05</td>\n",
       "    </tr>\n",
       "    <tr>\n",
       "      <th>26013</th>\n",
       "      <td>2017-08-01 01:14:00</td>\n",
       "      <td>0</td>\n",
       "      <td>0.05</td>\n",
       "      <td>0.08</td>\n",
       "      <td>0.10</td>\n",
       "      <td>0.10</td>\n",
       "      <td>0.10</td>\n",
       "      <td>0.04</td>\n",
       "    </tr>\n",
       "  </tbody>\n",
       "</table>\n",
       "</div>"
      ],
      "text/plain": [
       "                     TIME  IS_WEEKEND   T_1   T_2   T_3   T_4   T_5  USAGE\n",
       "26009 2017-08-01 00:14:00           0  0.10  0.11  0.12  0.15  0.10   0.10\n",
       "26010 2017-08-01 00:29:00           0  0.10  0.10  0.11  0.12  0.15   0.10\n",
       "26011 2017-08-01 00:44:00           0  0.10  0.10  0.10  0.11  0.12   0.08\n",
       "26012 2017-08-01 00:59:00           0  0.08  0.10  0.10  0.10  0.11   0.05\n",
       "26013 2017-08-01 01:14:00           0  0.05  0.08  0.10  0.10  0.10   0.04"
      ]
     },
     "execution_count": 21,
     "metadata": {},
     "output_type": "execute_result"
    }
   ],
   "source": [
    "validation_data.head(5)"
   ]
  },
  {
   "cell_type": "markdown",
   "metadata": {},
   "source": [
    "## September 2017 = Test Set"
   ]
  },
  {
   "cell_type": "code",
   "execution_count": 22,
   "metadata": {},
   "outputs": [],
   "source": [
    "test_data = df.loc[df.TIME >= pd.to_datetime('09/01/2017')]"
   ]
  },
  {
   "cell_type": "code",
   "execution_count": 23,
   "metadata": {},
   "outputs": [
    {
     "data": {
      "text/html": [
       "<div>\n",
       "<style scoped>\n",
       "    .dataframe tbody tr th:only-of-type {\n",
       "        vertical-align: middle;\n",
       "    }\n",
       "\n",
       "    .dataframe tbody tr th {\n",
       "        vertical-align: top;\n",
       "    }\n",
       "\n",
       "    .dataframe thead th {\n",
       "        text-align: right;\n",
       "    }\n",
       "</style>\n",
       "<table border=\"1\" class=\"dataframe\">\n",
       "  <thead>\n",
       "    <tr style=\"text-align: right;\">\n",
       "      <th></th>\n",
       "      <th>TIME</th>\n",
       "      <th>IS_WEEKEND</th>\n",
       "      <th>T_1</th>\n",
       "      <th>T_2</th>\n",
       "      <th>T_3</th>\n",
       "      <th>T_4</th>\n",
       "      <th>T_5</th>\n",
       "      <th>USAGE</th>\n",
       "    </tr>\n",
       "  </thead>\n",
       "  <tbody>\n",
       "    <tr>\n",
       "      <th>28984</th>\n",
       "      <td>2017-09-01 00:14:00</td>\n",
       "      <td>0</td>\n",
       "      <td>0.03</td>\n",
       "      <td>0.03</td>\n",
       "      <td>0.04</td>\n",
       "      <td>0.04</td>\n",
       "      <td>0.05</td>\n",
       "      <td>0.03</td>\n",
       "    </tr>\n",
       "    <tr>\n",
       "      <th>28985</th>\n",
       "      <td>2017-09-01 00:29:00</td>\n",
       "      <td>0</td>\n",
       "      <td>0.03</td>\n",
       "      <td>0.03</td>\n",
       "      <td>0.03</td>\n",
       "      <td>0.04</td>\n",
       "      <td>0.04</td>\n",
       "      <td>0.04</td>\n",
       "    </tr>\n",
       "    <tr>\n",
       "      <th>28986</th>\n",
       "      <td>2017-09-01 00:44:00</td>\n",
       "      <td>0</td>\n",
       "      <td>0.04</td>\n",
       "      <td>0.03</td>\n",
       "      <td>0.03</td>\n",
       "      <td>0.03</td>\n",
       "      <td>0.04</td>\n",
       "      <td>0.06</td>\n",
       "    </tr>\n",
       "    <tr>\n",
       "      <th>28987</th>\n",
       "      <td>2017-09-01 00:59:00</td>\n",
       "      <td>0</td>\n",
       "      <td>0.06</td>\n",
       "      <td>0.04</td>\n",
       "      <td>0.03</td>\n",
       "      <td>0.03</td>\n",
       "      <td>0.03</td>\n",
       "      <td>0.03</td>\n",
       "    </tr>\n",
       "    <tr>\n",
       "      <th>28988</th>\n",
       "      <td>2017-09-01 01:14:00</td>\n",
       "      <td>0</td>\n",
       "      <td>0.03</td>\n",
       "      <td>0.06</td>\n",
       "      <td>0.04</td>\n",
       "      <td>0.03</td>\n",
       "      <td>0.03</td>\n",
       "      <td>0.03</td>\n",
       "    </tr>\n",
       "  </tbody>\n",
       "</table>\n",
       "</div>"
      ],
      "text/plain": [
       "                     TIME  IS_WEEKEND   T_1   T_2   T_3   T_4   T_5  USAGE\n",
       "28984 2017-09-01 00:14:00           0  0.03  0.03  0.04  0.04  0.05   0.03\n",
       "28985 2017-09-01 00:29:00           0  0.03  0.03  0.03  0.04  0.04   0.04\n",
       "28986 2017-09-01 00:44:00           0  0.04  0.03  0.03  0.03  0.04   0.06\n",
       "28987 2017-09-01 00:59:00           0  0.06  0.04  0.03  0.03  0.03   0.03\n",
       "28988 2017-09-01 01:14:00           0  0.03  0.06  0.04  0.03  0.03   0.03"
      ]
     },
     "execution_count": 23,
     "metadata": {},
     "output_type": "execute_result"
    }
   ],
   "source": [
    "test_data.head(5)"
   ]
  },
  {
   "cell_type": "code",
   "execution_count": 24,
   "metadata": {},
   "outputs": [],
   "source": [
    "training_data = training_data[['IS_WEEKEND', 'T_1','T_2', 'T_3', 'T_4', 'T_5','USAGE']]\n",
    "validation_data = validation_data[['IS_WEEKEND', 'T_1','T_2', 'T_3', 'T_4', 'T_5','USAGE']]\n",
    "test_data = test_data[['IS_WEEKEND', 'T_1','T_2', 'T_3', 'T_4', 'T_5','USAGE']]"
   ]
  },
  {
   "cell_type": "code",
   "execution_count": 25,
   "metadata": {},
   "outputs": [],
   "source": [
    "X_train,y_train = training_data.drop([\"USAGE\"],axis=1),training_data.USAGE\n",
    "X_val,y_val = validation_data.drop([\"USAGE\"],axis=1),validation_data.USAGE\n",
    "X_test,y_test = test_data.drop([\"USAGE\"],axis=1),test_data.USAGE"
   ]
  },
  {
   "cell_type": "markdown",
   "metadata": {},
   "source": [
    "## Converting our data to 3 Dimensions"
   ]
  },
  {
   "cell_type": "code",
   "execution_count": 26,
   "metadata": {},
   "outputs": [],
   "source": [
    "X_train = np.array(X_train)\n",
    "X_train = X_train.reshape((X_train.shape[0],1,X_train.shape[1]))\n",
    "\n",
    "X_val = np.array(X_val)\n",
    "X_val = X_val.reshape((X_val.shape[0],1,X_val.shape[1]))\n",
    "\n",
    "X_test = np.array(X_test)\n",
    "X_test = X_test.reshape(X_test.shape[0],1,X_test.shape[1])"
   ]
  },
  {
   "cell_type": "markdown",
   "metadata": {},
   "source": [
    "## Importing the Deep Learning Libraries"
   ]
  },
  {
   "cell_type": "code",
   "execution_count": 27,
   "metadata": {},
   "outputs": [
    {
     "name": "stderr",
     "output_type": "stream",
     "text": [
      "C:\\Users\\zsree\\Anaconda3\\lib\\site-packages\\h5py\\__init__.py:36: FutureWarning: Conversion of the second argument of issubdtype from `float` to `np.floating` is deprecated. In future, it will be treated as `np.float64 == np.dtype(float).type`.\n",
      "  from ._conv import register_converters as _register_converters\n",
      "Using TensorFlow backend.\n"
     ]
    }
   ],
   "source": [
    "from keras.models import Sequential\n",
    "from keras.layers import Dense\n",
    "from keras.layers import LSTM"
   ]
  },
  {
   "cell_type": "markdown",
   "metadata": {},
   "source": [
    "## Building our Model"
   ]
  },
  {
   "cell_type": "code",
   "execution_count": 28,
   "metadata": {},
   "outputs": [],
   "source": [
    "model_k = Sequential()\n",
    "model_k.add(LSTM(1, input_shape=(1,6)))\n",
    "model_k.add(Dense(1))\n",
    "model_k.compile(loss='mean_squared_error', optimizer='adam',metrics=['mae'])"
   ]
  },
  {
   "cell_type": "code",
   "execution_count": 29,
   "metadata": {},
   "outputs": [
    {
     "name": "stdout",
     "output_type": "stream",
     "text": [
      "Train on 26009 samples, validate on 2975 samples\n",
      "Epoch 1/50\n",
      " - 1s - loss: 0.0758 - mean_absolute_error: 0.1287 - val_loss: 0.0156 - val_mean_absolute_error: 0.1005\n",
      "Epoch 2/50\n",
      " - 0s - loss: 0.0690 - mean_absolute_error: 0.1310 - val_loss: 0.0143 - val_mean_absolute_error: 0.0916\n",
      "Epoch 3/50\n",
      " - 0s - loss: 0.0627 - mean_absolute_error: 0.1193 - val_loss: 0.0128 - val_mean_absolute_error: 0.0788\n",
      "Epoch 4/50\n",
      " - 0s - loss: 0.0559 - mean_absolute_error: 0.1082 - val_loss: 0.0117 - val_mean_absolute_error: 0.0709\n",
      "Epoch 5/50\n",
      " - 0s - loss: 0.0496 - mean_absolute_error: 0.0989 - val_loss: 0.0108 - val_mean_absolute_error: 0.0643\n",
      "Epoch 6/50\n",
      " - 0s - loss: 0.0444 - mean_absolute_error: 0.0916 - val_loss: 0.0099 - val_mean_absolute_error: 0.0607\n",
      "Epoch 7/50\n",
      " - 0s - loss: 0.0401 - mean_absolute_error: 0.0863 - val_loss: 0.0091 - val_mean_absolute_error: 0.0566\n",
      "Epoch 8/50\n",
      " - 0s - loss: 0.0367 - mean_absolute_error: 0.0823 - val_loss: 0.0085 - val_mean_absolute_error: 0.0551\n",
      "Epoch 9/50\n",
      " - 0s - loss: 0.0340 - mean_absolute_error: 0.0789 - val_loss: 0.0081 - val_mean_absolute_error: 0.0533\n",
      "Epoch 10/50\n",
      " - 0s - loss: 0.0321 - mean_absolute_error: 0.0759 - val_loss: 0.0080 - val_mean_absolute_error: 0.0522\n",
      "Epoch 11/50\n",
      " - 0s - loss: 0.0309 - mean_absolute_error: 0.0741 - val_loss: 0.0080 - val_mean_absolute_error: 0.0517\n",
      "Epoch 12/50\n",
      " - 0s - loss: 0.0302 - mean_absolute_error: 0.0733 - val_loss: 0.0082 - val_mean_absolute_error: 0.0532\n",
      "Epoch 13/50\n",
      " - 0s - loss: 0.0298 - mean_absolute_error: 0.0730 - val_loss: 0.0082 - val_mean_absolute_error: 0.0520\n",
      "Epoch 14/50\n",
      " - 0s - loss: 0.0295 - mean_absolute_error: 0.0724 - val_loss: 0.0083 - val_mean_absolute_error: 0.0516\n",
      "Epoch 15/50\n",
      " - 0s - loss: 0.0293 - mean_absolute_error: 0.0719 - val_loss: 0.0081 - val_mean_absolute_error: 0.0490\n",
      "Epoch 16/50\n",
      " - 0s - loss: 0.0291 - mean_absolute_error: 0.0718 - val_loss: 0.0086 - val_mean_absolute_error: 0.0560\n",
      "Epoch 17/50\n",
      " - 0s - loss: 0.0290 - mean_absolute_error: 0.0720 - val_loss: 0.0081 - val_mean_absolute_error: 0.0479\n",
      "Epoch 18/50\n",
      " - 0s - loss: 0.0290 - mean_absolute_error: 0.0716 - val_loss: 0.0084 - val_mean_absolute_error: 0.0527\n",
      "Epoch 19/50\n",
      " - 0s - loss: 0.0288 - mean_absolute_error: 0.0718 - val_loss: 0.0085 - val_mean_absolute_error: 0.0514\n",
      "Epoch 20/50\n",
      " - 0s - loss: 0.0288 - mean_absolute_error: 0.0715 - val_loss: 0.0084 - val_mean_absolute_error: 0.0489\n",
      "Epoch 21/50\n",
      " - 0s - loss: 0.0287 - mean_absolute_error: 0.0710 - val_loss: 0.0084 - val_mean_absolute_error: 0.0517\n",
      "Epoch 22/50\n",
      " - 0s - loss: 0.0287 - mean_absolute_error: 0.0710 - val_loss: 0.0082 - val_mean_absolute_error: 0.0477\n",
      "Epoch 23/50\n",
      " - 0s - loss: 0.0287 - mean_absolute_error: 0.0716 - val_loss: 0.0083 - val_mean_absolute_error: 0.0488\n",
      "Epoch 24/50\n",
      " - 0s - loss: 0.0287 - mean_absolute_error: 0.0712 - val_loss: 0.0082 - val_mean_absolute_error: 0.0479\n",
      "Epoch 25/50\n",
      " - 0s - loss: 0.0286 - mean_absolute_error: 0.0713 - val_loss: 0.0083 - val_mean_absolute_error: 0.0504\n",
      "Epoch 26/50\n",
      " - 0s - loss: 0.0286 - mean_absolute_error: 0.0709 - val_loss: 0.0083 - val_mean_absolute_error: 0.0513\n",
      "Epoch 27/50\n",
      " - 0s - loss: 0.0285 - mean_absolute_error: 0.0706 - val_loss: 0.0080 - val_mean_absolute_error: 0.0467\n",
      "Epoch 28/50\n",
      " - 0s - loss: 0.0284 - mean_absolute_error: 0.0710 - val_loss: 0.0081 - val_mean_absolute_error: 0.0476\n",
      "Epoch 29/50\n",
      " - 0s - loss: 0.0284 - mean_absolute_error: 0.0709 - val_loss: 0.0081 - val_mean_absolute_error: 0.0472\n",
      "Epoch 30/50\n",
      " - 0s - loss: 0.0284 - mean_absolute_error: 0.0703 - val_loss: 0.0082 - val_mean_absolute_error: 0.0490\n",
      "Epoch 31/50\n",
      " - 0s - loss: 0.0283 - mean_absolute_error: 0.0704 - val_loss: 0.0082 - val_mean_absolute_error: 0.0486\n",
      "Epoch 32/50\n",
      " - 0s - loss: 0.0283 - mean_absolute_error: 0.0699 - val_loss: 0.0082 - val_mean_absolute_error: 0.0478\n",
      "Epoch 33/50\n",
      " - 0s - loss: 0.0283 - mean_absolute_error: 0.0702 - val_loss: 0.0083 - val_mean_absolute_error: 0.0510\n",
      "Epoch 34/50\n",
      " - 0s - loss: 0.0283 - mean_absolute_error: 0.0700 - val_loss: 0.0082 - val_mean_absolute_error: 0.0501\n",
      "Epoch 35/50\n",
      " - 0s - loss: 0.0283 - mean_absolute_error: 0.0706 - val_loss: 0.0084 - val_mean_absolute_error: 0.0502\n",
      "Epoch 36/50\n",
      " - 0s - loss: 0.0283 - mean_absolute_error: 0.0699 - val_loss: 0.0081 - val_mean_absolute_error: 0.0483\n",
      "Epoch 37/50\n",
      " - 0s - loss: 0.0283 - mean_absolute_error: 0.0700 - val_loss: 0.0083 - val_mean_absolute_error: 0.0501\n",
      "Epoch 38/50\n",
      " - 0s - loss: 0.0283 - mean_absolute_error: 0.0703 - val_loss: 0.0081 - val_mean_absolute_error: 0.0464\n",
      "Epoch 39/50\n",
      " - 0s - loss: 0.0283 - mean_absolute_error: 0.0698 - val_loss: 0.0084 - val_mean_absolute_error: 0.0529\n",
      "Epoch 40/50\n",
      " - 0s - loss: 0.0283 - mean_absolute_error: 0.0704 - val_loss: 0.0082 - val_mean_absolute_error: 0.0480\n",
      "Epoch 41/50\n",
      " - 0s - loss: 0.0282 - mean_absolute_error: 0.0698 - val_loss: 0.0082 - val_mean_absolute_error: 0.0488\n",
      "Epoch 42/50\n",
      " - 0s - loss: 0.0282 - mean_absolute_error: 0.0698 - val_loss: 0.0083 - val_mean_absolute_error: 0.0510\n",
      "Epoch 43/50\n",
      " - 0s - loss: 0.0282 - mean_absolute_error: 0.0702 - val_loss: 0.0081 - val_mean_absolute_error: 0.0459\n",
      "Epoch 44/50\n",
      " - 0s - loss: 0.0282 - mean_absolute_error: 0.0700 - val_loss: 0.0082 - val_mean_absolute_error: 0.0474\n",
      "Epoch 45/50\n",
      " - 0s - loss: 0.0282 - mean_absolute_error: 0.0697 - val_loss: 0.0082 - val_mean_absolute_error: 0.0485\n",
      "Epoch 46/50\n",
      " - 0s - loss: 0.0282 - mean_absolute_error: 0.0703 - val_loss: 0.0082 - val_mean_absolute_error: 0.0471\n",
      "Epoch 47/50\n",
      " - 0s - loss: 0.0282 - mean_absolute_error: 0.0698 - val_loss: 0.0082 - val_mean_absolute_error: 0.0479\n",
      "Epoch 48/50\n",
      " - 0s - loss: 0.0282 - mean_absolute_error: 0.0698 - val_loss: 0.0082 - val_mean_absolute_error: 0.0462\n",
      "Epoch 49/50\n",
      " - 0s - loss: 0.0282 - mean_absolute_error: 0.0700 - val_loss: 0.0082 - val_mean_absolute_error: 0.0463\n",
      "Epoch 50/50\n",
      " - 0s - loss: 0.0282 - mean_absolute_error: 0.0697 - val_loss: 0.0082 - val_mean_absolute_error: 0.0475\n"
     ]
    }
   ],
   "source": [
    "history = model_k.fit(X_train, y_train, validation_data=(X_val, y_val),epochs=50, batch_size=96, verbose=2)"
   ]
  },
  {
   "cell_type": "markdown",
   "metadata": {},
   "source": [
    "## Predictions"
   ]
  },
  {
   "cell_type": "code",
   "execution_count": 30,
   "metadata": {},
   "outputs": [],
   "source": [
    "Pred = model_k.predict(X_test)\n",
    "y_test = np.array(y_test)"
   ]
  },
  {
   "cell_type": "code",
   "execution_count": 31,
   "metadata": {},
   "outputs": [],
   "source": [
    "plt.rcParams['figure.figsize'] = (15.0, 6.0)"
   ]
  },
  {
   "cell_type": "markdown",
   "metadata": {},
   "source": [
    "## Actual Data"
   ]
  },
  {
   "cell_type": "code",
   "execution_count": 32,
   "metadata": {
    "scrolled": true
   },
   "outputs": [
    {
     "data": {
      "image/png": "[encoded data removed]",
      "text/plain": [
       "<matplotlib.figure.Figure at 0x284d97e1eb8>"
      ]
     },
     "metadata": {},
     "output_type": "display_data"
    }
   ],
   "source": [
    "plt.plot(range(len(y_test)),y_test,color='g')\n",
    "plt.xlim(0,2880)\n",
    "plt.xticks([0,720,1440,2160,2880],['9/1/17','9/8/17','9/16/17','9/23/17','9/30/17'])\n",
    "plt.show()"
   ]
  },
  {
   "cell_type": "markdown",
   "metadata": {},
   "source": [
    "## Predicted Data"
   ]
  },
  {
   "cell_type": "code",
   "execution_count": 33,
   "metadata": {
    "scrolled": true
   },
   "outputs": [
    {
     "data": {
      "image/png": "[encoded data removed]",
      "text/plain": [
       "<matplotlib.figure.Figure at 0x284d97e1a90>"
      ]
     },
     "metadata": {},
     "output_type": "display_data"
    }
   ],
   "source": [
    "plt.plot(range(len(Pred)),Pred,color='r')\n",
    "plt.xlim(0,2880)\n",
    "plt.xticks([0,720,1440,2160,2880],['9/1/17','9/8/17','9/16/17','9/23/17','9/30/17'])\n",
    "plt.show()"
   ]
  },
  {
   "cell_type": "markdown",
   "metadata": {},
   "source": [
    "## Actual and Predicted almost coincides"
   ]
  },
  {
   "cell_type": "code",
   "execution_count": 34,
   "metadata": {
    "scrolled": true
   },
   "outputs": [
    {
     "data": {
      "image/png": "[encoded data removed]",
      "text/plain": [
       "<matplotlib.figure.Figure at 0x284d9a77470>"
      ]
     },
     "metadata": {},
     "output_type": "display_data"
    }
   ],
   "source": [
    "plt.plot(range(len(Pred)),Pred,color='r')\n",
    "plt.plot(range(len(y_test)),y_test,color='g')\n",
    "#plt.plot(ko.DATE[28984:31864],Pred,color='r')\n",
    "plt.xlim(0,2880)\n",
    "plt.xticks([0,720,1440,2160,2880],['9/1/17','9/8/17','9/16/17','9/23/17','9/30/17'])\n",
    "plt.show()"
   ]
  },
  {
   "cell_type": "code",
   "execution_count": 35,
   "metadata": {
    "scrolled": true
   },
   "outputs": [],
   "source": [
    "test_data['Pred'] = Pred"
   ]
  },
  {
   "cell_type": "code",
   "execution_count": 36,
   "metadata": {},
   "outputs": [
    {
     "data": {
      "text/html": [
       "<div>\n",
       "<style scoped>\n",
       "    .dataframe tbody tr th:only-of-type {\n",
       "        vertical-align: middle;\n",
       "    }\n",
       "\n",
       "    .dataframe tbody tr th {\n",
       "        vertical-align: top;\n",
       "    }\n",
       "\n",
       "    .dataframe thead th {\n",
       "        text-align: right;\n",
       "    }\n",
       "</style>\n",
       "<table border=\"1\" class=\"dataframe\">\n",
       "  <thead>\n",
       "    <tr style=\"text-align: right;\">\n",
       "      <th></th>\n",
       "      <th>IS_WEEKEND</th>\n",
       "      <th>T_1</th>\n",
       "      <th>T_2</th>\n",
       "      <th>T_3</th>\n",
       "      <th>T_4</th>\n",
       "      <th>T_5</th>\n",
       "      <th>USAGE</th>\n",
       "      <th>Pred</th>\n",
       "    </tr>\n",
       "  </thead>\n",
       "  <tbody>\n",
       "    <tr>\n",
       "      <th>28984</th>\n",
       "      <td>0</td>\n",
       "      <td>0.03</td>\n",
       "      <td>0.03</td>\n",
       "      <td>0.04</td>\n",
       "      <td>0.04</td>\n",
       "      <td>0.05</td>\n",
       "      <td>0.03</td>\n",
       "      <td>0.051914</td>\n",
       "    </tr>\n",
       "    <tr>\n",
       "      <th>28985</th>\n",
       "      <td>0</td>\n",
       "      <td>0.03</td>\n",
       "      <td>0.03</td>\n",
       "      <td>0.03</td>\n",
       "      <td>0.04</td>\n",
       "      <td>0.04</td>\n",
       "      <td>0.04</td>\n",
       "      <td>0.050643</td>\n",
       "    </tr>\n",
       "    <tr>\n",
       "      <th>28986</th>\n",
       "      <td>0</td>\n",
       "      <td>0.04</td>\n",
       "      <td>0.03</td>\n",
       "      <td>0.03</td>\n",
       "      <td>0.03</td>\n",
       "      <td>0.04</td>\n",
       "      <td>0.06</td>\n",
       "      <td>0.059131</td>\n",
       "    </tr>\n",
       "    <tr>\n",
       "      <th>28987</th>\n",
       "      <td>0</td>\n",
       "      <td>0.06</td>\n",
       "      <td>0.04</td>\n",
       "      <td>0.03</td>\n",
       "      <td>0.03</td>\n",
       "      <td>0.03</td>\n",
       "      <td>0.03</td>\n",
       "      <td>0.073811</td>\n",
       "    </tr>\n",
       "    <tr>\n",
       "      <th>28988</th>\n",
       "      <td>0</td>\n",
       "      <td>0.03</td>\n",
       "      <td>0.06</td>\n",
       "      <td>0.04</td>\n",
       "      <td>0.03</td>\n",
       "      <td>0.03</td>\n",
       "      <td>0.03</td>\n",
       "      <td>0.045058</td>\n",
       "    </tr>\n",
       "  </tbody>\n",
       "</table>\n",
       "</div>"
      ],
      "text/plain": [
       "       IS_WEEKEND   T_1   T_2   T_3   T_4   T_5  USAGE      Pred\n",
       "28984           0  0.03  0.03  0.04  0.04  0.05   0.03  0.051914\n",
       "28985           0  0.03  0.03  0.03  0.04  0.04   0.04  0.050643\n",
       "28986           0  0.04  0.03  0.03  0.03  0.04   0.06  0.059131\n",
       "28987           0  0.06  0.04  0.03  0.03  0.03   0.03  0.073811\n",
       "28988           0  0.03  0.06  0.04  0.03  0.03   0.03  0.045058"
      ]
     },
     "execution_count": 36,
     "metadata": {},
     "output_type": "execute_result"
    }
   ],
   "source": [
    "test_data.head(5)"
   ]
  },
  {
   "cell_type": "markdown",
   "metadata": {},
   "source": [
    "## Actual vs Predicted Comparisons for a single day"
   ]
  },
  {
   "cell_type": "code",
   "execution_count": 37,
   "metadata": {},
   "outputs": [
    {
     "data": {
      "image/png": "[encoded data removed]",
      "text/plain": [
       "<matplotlib.figure.Figure at 0x284d7819160>"
      ]
     },
     "metadata": {},
     "output_type": "display_data"
    }
   ],
   "source": [
    "plt.plot(range(96),(test_data.loc[30424:30519].Pred),color='r')\n",
    "plt.plot(range(96),(test_data.loc[30424:30519].USAGE),color='g')\n",
    "plt.show()"
   ]
  },
  {
   "cell_type": "markdown",
   "metadata": {},
   "source": [
    "## Loss Graph "
   ]
  },
  {
   "cell_type": "code",
   "execution_count": 38,
   "metadata": {
    "scrolled": true
   },
   "outputs": [
    {
     "data": {
      "image/png": "[encoded data removed]",
      "text/plain": [
       "<matplotlib.figure.Figure at 0x284d76cfdd8>"
      ]
     },
     "metadata": {},
     "output_type": "display_data"
    }
   ],
   "source": [
    "plt.plot(history.history['loss'])\n",
    "plt.show()"
   ]
  },
  {
   "cell_type": "markdown",
   "metadata": {},
   "source": [
    "## MSE"
   ]
  },
  {
   "cell_type": "code",
   "execution_count": 39,
   "metadata": {},
   "outputs": [],
   "source": [
    "from sklearn.metrics import mean_squared_error"
   ]
  },
  {
   "cell_type": "code",
   "execution_count": 40,
   "metadata": {},
   "outputs": [
    {
     "data": {
      "text/plain": [
       "0.07590214844393371"
      ]
     },
     "execution_count": 40,
     "metadata": {},
     "output_type": "execute_result"
    }
   ],
   "source": [
    "sqrt(mean_squared_error(test_data.USAGE,test_data.Pred))"
   ]
  }
 ],
 "metadata": {
  "kernelspec": {
   "display_name": "Python 3",
   "language": "python",
   "name": "python3"
  },
  "language_info": {
   "codemirror_mode": {
    "name": "ipython",
    "version": 3
   },
   "file_extension": ".py",
   "mimetype": "text/x-python",
   "name": "python",
   "nbconvert_exporter": "python",
   "pygments_lexer": "ipython3",
   "version": "3.6.4"
  }
 },
 "nbformat": 4,
 "nbformat_minor": 2
}
