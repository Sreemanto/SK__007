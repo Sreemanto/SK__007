{
 "cells": [
  {
   "cell_type": "code",
   "execution_count": null,
   "id": "28dbcd3d",
   "metadata": {},
   "outputs": [],
   "source": [
    "import pandas as pd\n",
    "import numpy as np\n",
    "import datetime as dt"
   ]
  },
  {
   "cell_type": "markdown",
   "id": "3b622c4e",
   "metadata": {},
   "source": [
    "# Strategy we will backtest\n",
    "\n",
    "#### 1. At 10:59 AM calculate the day high and day Low.\n",
    "    \n",
    "    \n",
    "#### 2. From 11 AM keep monitoring the stock price.\n",
    "\n",
    "\n",
    "#### 3. If it breaches the Low enter the trade with Short\n",
    "\n",
    "\n",
    "#### 4. If it breaches the high enter the trade with Long\n",
    "\n",
    "\n",
    "#### 5. If neither of #4 or #5 happens, don't enter.\n",
    "\n",
    "\n",
    "#### 6. Once, trade entered. Set yourself a target and a stop loss.\n",
    "\n",
    "\n",
    "#### 7. Exit the trade when either target or stop-loss is breached."
   ]
  },
  {
   "cell_type": "markdown",
   "id": "06c27f06",
   "metadata": {},
   "source": [
    "## Step 0 - Declaring the Parameters"
   ]
  },
  {
   "cell_type": "code",
   "execution_count": null,
   "id": "eb16b08b",
   "metadata": {},
   "outputs": [],
   "source": [
    "# To be used in Profit and Loss calculcation\n",
    "brokerage = 40\n",
    "\n",
    "# Quantity of stocks in 1 Lot of Bank Nifty\n",
    "lot_size = 25\n",
    "\n",
    "# This is a factor we are including for slippage and other tax deductions\n",
    "# This variable is to incorporate STT deductions\n",
    "adjustment_factor = 0.95 \n",
    "\n",
    "# Interval for which we calucalate our High and Low\n",
    "interval_dict = {\"10 AM\" :  45,\n",
    "                 \"11 AM\" :  105,\n",
    "                 \"12 PM\" :  165,\n",
    "                 \"1 PM\"  :  225,\n",
    "                 \"2 PM\"  :  285}\n",
    "\n",
    "\n",
    "interval_in_mins = interval_dict['11 AM']\n",
    "\n",
    "start_time = '10:59' #change it as per interval selection\n",
    "end_time = '15:00'\n",
    "\n",
    "#Target Points\n",
    "target_param = 100\n",
    "\n",
    "# Stop Loss Points\n",
    "loss_param = 175\n",
    "\n",
    "# This date is an outlier. On this day Trading happens at a different time-frame.\n",
    "muhurat_trading_day = '04-11-2021' \n",
    "\n",
    "\n",
    "#File Path\n",
    "#data_path = '/Users/sreemantakesh/Desktop/The Algotrading Page/Datasets/FUTURES/BANK NIFTY FUT 2021.csv'\n",
    "data_path = 'https://raw.githubusercontent.com/Sreemanto/SK__007/master/AlgoTrading%20Workshop/BANK%20NIFTY%20FUT%202021.csv'"
   ]
  },
  {
   "cell_type": "markdown",
   "id": "5f402de0",
   "metadata": {},
   "source": [
    "## Step 1 - Load the data and perform elementary checks\n",
    "\n",
    "#### 1. No missing values.\n",
    "\n",
    "#### 2. Check the data-types"
   ]
  },
  {
   "cell_type": "code",
   "execution_count": null,
   "id": "11d07683",
   "metadata": {},
   "outputs": [],
   "source": [
    "df = pd.read_csv(data_path)\n",
    "df.head(5)"
   ]
  },
  {
   "cell_type": "code",
   "execution_count": null,
   "id": "ab70c9a1",
   "metadata": {},
   "outputs": [],
   "source": [
    "df.isnull().sum()"
   ]
  },
  {
   "cell_type": "code",
   "execution_count": null,
   "id": "6b6df701",
   "metadata": {},
   "outputs": [],
   "source": [
    "df.dtypes"
   ]
  },
  {
   "cell_type": "markdown",
   "id": "41ea586d",
   "metadata": {},
   "source": [
    "# Step 2 - Create two columns time, and day. Such that\n",
    "\n",
    "#### 'Day' = DD-MM-YYYY\n",
    "#### 'Time' = HH:MM\n",
    "    \n",
    "Also, convert, the 'date' column to 'datetime' object."
   ]
  },
  {
   "cell_type": "code",
   "execution_count": null,
   "id": "da5ddda7",
   "metadata": {},
   "outputs": [],
   "source": [
    "df['time']= df.date.str.slice(10,16)\n",
    "\n",
    "df['day'] = df.date.str.slice(0,10)\n",
    "\n",
    "df[\"date\"] = pd.to_datetime(df[\"date\"])\n",
    "\n",
    "df.head(5)"
   ]
  },
  {
   "cell_type": "markdown",
   "id": "89006e8d",
   "metadata": {},
   "source": [
    "# Step 3 - At 10:59 AM calculate the day high and day Low  for each day and store them as columns with name as 'interval_high' and 'interval_low'. "
   ]
  },
  {
   "cell_type": "code",
   "execution_count": null,
   "id": "1dcd7f38",
   "metadata": {},
   "outputs": [],
   "source": [
    "#doing a groupby and only keeping the first 105 entries. Why?\n",
    "temp = df.groupby('day').head(interval_in_mins)\n",
    "temp.head(5)"
   ]
  },
  {
   "cell_type": "code",
   "execution_count": null,
   "id": "ef36389c",
   "metadata": {},
   "outputs": [],
   "source": [
    "interval_high_low = temp.groupby('day', as_index=False).agg({\"high\":\"max\", \"low\":\"min\"})\n",
    "interval_high_low.head(5)"
   ]
  },
  {
   "cell_type": "code",
   "execution_count": null,
   "id": "ca70eca7",
   "metadata": {},
   "outputs": [],
   "source": [
    "#renaming the columns\n",
    "interval_high_low.columns = ['day','interval_high','interval_low']\n",
    "interval_high_low.head(5)"
   ]
  },
  {
   "cell_type": "code",
   "execution_count": null,
   "id": "18eef94c",
   "metadata": {},
   "outputs": [],
   "source": [
    "#Joining with the original dataframe 'df'\n",
    "df = pd.merge(df, interval_high_low, on = 'day')\n",
    "\n",
    "df.head(5)"
   ]
  },
  {
   "cell_type": "markdown",
   "id": "95044bbc",
   "metadata": {},
   "source": [
    "# Step 4 - Filter the data for just one day '04-01-2021' . And do the following.\n",
    "\n",
    "#### 1. Store the 11 AM high and 11 AM low in variables 'interval_high' and 'interval_low'\n",
    "\n",
    "#### 2. Store the 11 AM high and 11 AM low in variables 'interval_high_time' and 'interval_low_time'\n",
    "\n",
    "#### 3. Filter the data further such that we only have data from 11 AM to 3 PM for the given day"
   ]
  },
  {
   "cell_type": "code",
   "execution_count": null,
   "id": "c1cb67d4",
   "metadata": {},
   "outputs": [],
   "source": [
    "day = '04-01-2021'\n",
    "\n",
    "#filtering the data for one single day\n",
    "d1 = df[df[\"day\"] == day]\n"
   ]
  },
  {
   "cell_type": "code",
   "execution_count": null,
   "id": "a86ecf0a",
   "metadata": {},
   "outputs": [],
   "source": [
    "#Storing the 11 AM high and 11 AM low in variables 'interval_high' and 'interval_low'\n",
    "interval_high = d1['interval_high'].unique()[0]\n",
    "interval_low = d1['interval_low'].unique()[0]\n",
    "\n",
    "#Storing the 11 AM high and 11 AM low in variables 'interval_high_time' and 'interval_low_time'\n",
    "interval_high_time = d1[d1['high']==interval_high].date.dt.time.values[0]\n",
    "interval_low_time = d1[d1['low']==interval_low].date.dt.time.values[0]"
   ]
  },
  {
   "cell_type": "code",
   "execution_count": null,
   "id": "c3101514",
   "metadata": {},
   "outputs": [],
   "source": [
    "#subsetting the data for post to interval time\n",
    "d1 = d1.set_index('date')\n",
    "\n",
    "d1 = d1.between_time(start_time,end_time)\n",
    "\n",
    "d1 = d1.reset_index()\n",
    "\n",
    "d1.head(5)"
   ]
  },
  {
   "cell_type": "markdown",
   "id": "df877479",
   "metadata": {},
   "source": [
    "# Step 5 - Check if trade is triggered or not.\n",
    "\n",
    "#### 1. Create two boolean columns 'interval_high_breach' and 'interval_low_breach' such that position after the high breach or low breach are all marked as 1.\n",
    "\n",
    "#### 2. Declare and empty variable name it as 'position'\n",
    "\n",
    "#### 3. Check if trade is triggered or not. If it breaks high than store position = 'Long', if low is breached then store as 'Short' else \"NA\"\n",
    "\n",
    "#### 4. Store the 'row number' or the index of the dataframe where the trade was triggered in a variable 'entry_index' or 'entry_index'\n",
    "\n",
    "#### 4. Also, store the entry_price, target, stop_loss, entry_time for all the three cases"
   ]
  },
  {
   "cell_type": "code",
   "execution_count": null,
   "id": "2f55b1d0",
   "metadata": {},
   "outputs": [],
   "source": [
    "position = ''\n",
    "\n",
    "d1['interval_high_breach'] = np.where(d1.high > interval_high , True, False)\n",
    "d1['interval_low_breach'] = np.where(d1.low < interval_low , True, False)\n",
    "\n",
    "d1[['time', 'day', 'open', 'high', 'low', 'close','time',\n",
    "    'day', 'interval_high','interval_low', 'interval_high_breach', 'interval_low_breach']]"
   ]
  },
  {
   "cell_type": "code",
   "execution_count": null,
   "id": "3e52486b",
   "metadata": {},
   "outputs": [],
   "source": [
    "#Condtion 1 - When after 11 AM both high breach and low breack has happend on that day\n",
    "if len(d1[d1['interval_low_breach'] == True]) & len(d1[d1['interval_high_breach'] == True]):\n",
    "    \n",
    "    long_entry_index = d1[d1['interval_high_breach'] == True].index[0]\n",
    "    short_entry_index = d1[d1['interval_low_breach'] == True].index[0]\n",
    "\n",
    "\n",
    "    if long_entry_index < short_entry_index:\n",
    "\n",
    "        position = 'Long'\n",
    "        \n",
    "        entry_price = interval_high\n",
    "        \n",
    "        entry_index = d1[d1['interval_high_breach'] == True].index[0]\n",
    "        \n",
    "        target    = entry_price + target_param\n",
    "        \n",
    "        stop_loss = entry_price - loss_param\n",
    "        \n",
    "        entry_time = d1['date'].dt.time[entry_index]    \n",
    "        \n",
    "        \n",
    "    else:\n",
    "\n",
    "        position = 'Short'\n",
    "        \n",
    "        entry_price = interval_low\n",
    "        \n",
    "        entry_index = d1[d1['interval_low_breach'] == True].index[0]\n",
    "        \n",
    "        target    = entry_price - target_param\n",
    "        \n",
    "        stop_loss = entry_price + loss_param\n",
    "        \n",
    "        entry_time = d1['date'].dt.time[entry_index]\n",
    "        \n",
    "#Condtion 2 - When after 11 AM only low breach has happened\n",
    "elif len(d1[d1['interval_low_breach'] == True]):\n",
    "\n",
    "    position = 'Short'\n",
    "\n",
    "    entry_price = interval_low\n",
    "\n",
    "    entry_index = d1[d1['interval_low_breach'] == True].index[0]\n",
    "\n",
    "    target    = entry_price - target_param\n",
    "\n",
    "    stop_loss = entry_price + loss_param\n",
    "\n",
    "    entry_time = d1['date'].dt.time[entry_index]\n",
    "\n",
    "#Condtion 3 - When after 11 AM only high breach has happened\n",
    "elif len(d1[d1['interval_high_breach'] == True]):\n",
    "\n",
    "    position = 'Long'\n",
    "\n",
    "    entry_price = interval_high\n",
    "\n",
    "    entry_index = d1[d1['interval_high_breach'] == True].index[0]\n",
    "\n",
    "    target    = entry_price + target_param\n",
    "\n",
    "    stop_loss = entry_price - loss_param\n",
    "\n",
    "    entry_time = d1['date'].dt.time[entry_index]   \n",
    "        \n",
    "else:\n",
    "\n",
    "    position = 'NA'\n",
    "    \n",
    "    entry_price = np.nan\n",
    "\n",
    "    entry_index = np.nan\n",
    "\n",
    "    target    = np.nan\n",
    "\n",
    "    stop_loss = np.nan\n",
    "\n",
    "    entry_time = np.nan"
   ]
  },
  {
   "cell_type": "code",
   "execution_count": null,
   "id": "097fe053",
   "metadata": {},
   "outputs": [],
   "source": [
    "print(\"Trade triggered  position entered \",position)\n",
    "print(\"Trade entered at : \",format(entry_time))\n",
    "print(\"Entry Price : \",entry_price)\n",
    "print(\"Traget : \",target)\n",
    "print(\"Stop Loss : \",stop_loss)"
   ]
  },
  {
   "cell_type": "markdown",
   "id": "67152174",
   "metadata": {},
   "source": [
    "# Step 6 : Check the outcome of the Trade\n",
    "    \n",
    "#### 1. Declare two empty variables 'closing_price' and 'exit_time'\n",
    "\n",
    "#### 2. Loop through the data after the trade has entered to check for profit or loss.\n",
    "\n",
    "#### 3. Store the outcome in variable called 'result'. Also store the exit time and closing price "
   ]
  },
  {
   "cell_type": "code",
   "execution_count": null,
   "id": "3d27bd37",
   "metadata": {},
   "outputs": [],
   "source": [
    "closing_price = ''\n",
    "exit_time = ''\n",
    "\n",
    "if position!=\"NA\":\n",
    "\n",
    "    post_signal_data = d1.iloc[entry_index:,:][[\"high\",\"low\",\"close\",\"time\"]].reset_index(drop=True).copy()        \n",
    "\n",
    "    #iterate and check if target hits or stop loss hits\n",
    "    if position == \"Long\":\n",
    "        for candle_high, candle_low, closing,time in zip(post_signal_data.high,\n",
    "                                                         post_signal_data.low,\n",
    "                                                         post_signal_data.close,\n",
    "                                                         post_signal_data.time):\n",
    "            if candle_high > target:\n",
    "                result = 'Profit'\n",
    "                #print('Profit')\n",
    "                closing_price = target\n",
    "                exit_time = time\n",
    "                break\n",
    "            elif candle_low < stop_loss:\n",
    "                result = 'Loss'\n",
    "                #print('Loss')\n",
    "                closing_price = stop_loss\n",
    "                exit_time = time\n",
    "                break\n",
    "            else:\n",
    "                result = \"Started but not finished\"\n",
    "                closing_price = closing\n",
    "                exit_time = time\n",
    "\n",
    "    else:\n",
    "        for candle_high, candle_low, closing, time in zip(post_signal_data.high,\n",
    "                                                          post_signal_data.low,\n",
    "                                                          post_signal_data.close,\n",
    "                                                          post_signal_data.time):\n",
    "            if candle_low < target:\n",
    "                result = 'Profit'\n",
    "                closing_price = target\n",
    "                exit_time = time\n",
    "                #print('Profit')\n",
    "                break\n",
    "            elif candle_high > stop_loss:\n",
    "                result = 'Loss'\n",
    "                closing_price = stop_loss\n",
    "                exit_time = time\n",
    "                #print('Loss')\n",
    "                break\n",
    "            else:\n",
    "                result = \"Started but not finished\"\n",
    "                last_price = post_signal_data\n",
    "                closing_price = closing\n",
    "                exit_time = time\n",
    "else:\n",
    "    result = \"NA\"\n",
    "    closing_price = 'NA'\n",
    "    \n",
    "# Copy the data in a list\n",
    "rpt = []\n",
    "\n",
    "rpt.append((day,\n",
    "            interval_high,\n",
    "            interval_high_time,\n",
    "            interval_low,\n",
    "            interval_low_time,\n",
    "            position,\n",
    "            entry_time,\n",
    "            exit_time,\n",
    "            result,\n",
    "            entry_price,\n",
    "            closing_price))"
   ]
  },
  {
   "cell_type": "code",
   "execution_count": null,
   "id": "a45ddb3f",
   "metadata": {},
   "outputs": [],
   "source": [
    "print(\"Trade triggered {} position entered \".format(position))\n",
    "print(\"Trade entered at : \",format(entry_time))\n",
    "print(\"Entry Price : \",entry_price)\n",
    "print(\"Traget : \",target)\n",
    "print(\"Stop Loss : \",stop_loss)\n",
    "print(\"Trade Result : \",result)\n",
    "print(\"Trade Exited at : \",exit_time)"
   ]
  },
  {
   "cell_type": "markdown",
   "id": "decb44dc",
   "metadata": {},
   "source": [
    "# Step 7 : Store the Result in the form of a DataFrame\n"
   ]
  },
  {
   "cell_type": "code",
   "execution_count": null,
   "id": "b807d66f",
   "metadata": {},
   "outputs": [],
   "source": [
    "rpt_df = pd.DataFrame(rpt,columns= ['day',\n",
    "                'interval_high',\n",
    "                'interval_high_time',\n",
    "                'interval_low',\n",
    "                'interval_low_time',\n",
    "                'position',\n",
    "                'entry_time',\n",
    "                'exit_time',\n",
    "                'result',\n",
    "                'entry_price',\n",
    "                'closing_price'])\n",
    "\n",
    "rpt_df"
   ]
  },
  {
   "cell_type": "code",
   "execution_count": null,
   "id": "e291a86e",
   "metadata": {},
   "outputs": [],
   "source": []
  },
  {
   "cell_type": "code",
   "execution_count": null,
   "id": "a84f3191",
   "metadata": {},
   "outputs": [],
   "source": []
  },
  {
   "cell_type": "code",
   "execution_count": null,
   "id": "4fbe57d6",
   "metadata": {},
   "outputs": [],
   "source": []
  },
  {
   "cell_type": "code",
   "execution_count": null,
   "id": "445fdc35",
   "metadata": {},
   "outputs": [],
   "source": []
  },
  {
   "cell_type": "code",
   "execution_count": null,
   "id": "56b20c49",
   "metadata": {},
   "outputs": [],
   "source": []
  },
  {
   "cell_type": "code",
   "execution_count": null,
   "id": "8af427bb",
   "metadata": {},
   "outputs": [],
   "source": []
  },
  {
   "cell_type": "code",
   "execution_count": null,
   "id": "37b1e832",
   "metadata": {},
   "outputs": [],
   "source": []
  },
  {
   "cell_type": "code",
   "execution_count": null,
   "id": "9dfbb71b",
   "metadata": {},
   "outputs": [],
   "source": []
  },
  {
   "cell_type": "code",
   "execution_count": null,
   "id": "a4558b4e",
   "metadata": {},
   "outputs": [],
   "source": []
  },
  {
   "cell_type": "code",
   "execution_count": null,
   "id": "e62f930e",
   "metadata": {},
   "outputs": [],
   "source": []
  },
  {
   "cell_type": "code",
   "execution_count": null,
   "id": "48bc302b",
   "metadata": {},
   "outputs": [],
   "source": []
  },
  {
   "cell_type": "code",
   "execution_count": null,
   "id": "988bb69b",
   "metadata": {},
   "outputs": [],
   "source": []
  },
  {
   "cell_type": "code",
   "execution_count": null,
   "id": "9401276e",
   "metadata": {},
   "outputs": [],
   "source": []
  },
  {
   "cell_type": "code",
   "execution_count": null,
   "id": "b354e902",
   "metadata": {},
   "outputs": [],
   "source": []
  },
  {
   "cell_type": "code",
   "execution_count": null,
   "id": "eb64bd32",
   "metadata": {},
   "outputs": [],
   "source": []
  },
  {
   "cell_type": "code",
   "execution_count": null,
   "id": "d2fbca47",
   "metadata": {},
   "outputs": [],
   "source": []
  }
 ],
 "metadata": {
  "kernelspec": {
   "display_name": "algotrading",
   "language": "python",
   "name": "algotrading"
  },
  "language_info": {
   "codemirror_mode": {
    "name": "ipython",
    "version": 3
   },
   "file_extension": ".py",
   "mimetype": "text/x-python",
   "name": "python",
   "nbconvert_exporter": "python",
   "pygments_lexer": "ipython3",
   "version": "3.9.7"
  }
 },
 "nbformat": 4,
 "nbformat_minor": 5
}
